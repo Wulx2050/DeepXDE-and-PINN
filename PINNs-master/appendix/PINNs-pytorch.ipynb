{
 "cells": [
  {
   "cell_type": "markdown",
   "metadata": {},
   "source": [
    "### 非线性偏微分方程的数据驱动解\n",
    "\n",
    "--------Data-driven Solutions of Nonlinear Partial Differential Equations\n",
    "\n",
    "在这篇分为两部分的论文的[第一部分](https://arxiv.org/abs/1711.10561)中，我们将重点讨论计算**一般形式偏微分方程**(partial differential equations of the general form)的数据驱动解\n",
    "$$\n",
    "\\large u_t + \\cal N[u] = 0, x\\in Ω, t \\in [0,T],\n",
    "$$\n",
    "其中 $u(t,x)$ 表示潜在（隐藏）解，$\\cal N[⋅]$ 是一个**非线性微分算子**(nonlinear differential operator)，$Ω$ 是 $R^D$ 的子集。接下来，我们提出了两类不同的算法，即**连续时间模型和离散时间模型**(continuous and discrete time models)，并通过不同的基准问题来突出它们的性质和性能。[这里](https://github.com/maziarraissi/PINNs)提供了所有代码和数据集。"
   ]
  },
  {
   "cell_type": "markdown",
   "metadata": {},
   "source": [
    "#### 连续时间模型\n",
    "\n",
    "--------Continuous Time Models\n",
    "\n",
    "我们定义 $f(t,x)$ 为\n",
    "$$\n",
    "\\large f := u_t + \\cal N[u],\n",
    "$$\n",
    "\n",
    "然后用深度神经网络逼近 $u(t,x)$ 。这个假设产生了一个[物理信息神经网络](https://arxiv.org/abs/1711.10561) $f(t,x)$ 。这个网络可以通过计算图上的演算得到：[反向传播](http://colah.github.io/posts/2015-08-Backprop/)。"
   ]
  },
  {
   "cell_type": "markdown",
   "metadata": {},
   "source": [
    "##### 示例1(Burgers方程)\n",
    "\n",
    "作为一个例子，让我们考虑[Burgers方程](https://en.wikipedia.org/wiki/Burgers'_equation)。在一维空间中，Burger方程的Dirichlet边界条件如下\n",
    "$$\n",
    "\\begin{align}\n",
    "& \\large u_t + uu_x - (0.01/\\pi)u_{xx} = 0, x \\in [-1,1], t \\in [0,1],\\\\\n",
    "& \\large u(0,x) = -sin(\\pi x),\\\\\n",
    "& \\large u(t,-1) = u(t,1) = 0.\\\\\n",
    "\\end{align}\n",
    "$$\n",
    "\n",
    "\n",
    "\n",
    "让我们定义 $f(t,x)$ 为\n",
    "$$\n",
    "\\large f := u_t + uu_x - (0.01/\\pi)u_{xx},\n",
    "$$\n",
    "\n",
    "然后用深度神经网络逼近 $u(t,x)$ 。为了强调这个想法的简单性，让我们用Python来实现它，只需要一点点[Tensorflow](https://www.tensorflow.org/)。为此， $u(t,x)$ 可以简单地定义为\n",
    "\n",
    "```python\n",
    "def u(t, x):\n",
    "    u = neural_net(tf.concat([t,x],1), weights, biases)\n",
    "    return u\n",
    "```\n",
    "\n",
    "相应地，[物理信息神经网络](https://arxiv.org/abs/1711.10561)$f(t,x)$ 采用以下形式\n",
    "\n",
    "```python\n",
    "def f(t, x):\n",
    "    u = u(t, x)\n",
    "    u_t = tf.gradients(u, t)[0]\n",
    "    u_x = tf.gradients(u, x)[0]\n",
    "    u_xx = tf.gradients(u_x, x)[0]\n",
    "    f = u_t + u*u_x - (0.01/tf.pi)*u_xx\n",
    "    return f\n",
    "```\n",
    "\n",
    "通过最小化均方误差损失，可以学习神经网络 $u(t,x)$ 和 $f(t,x)$ 之间的共享参数\n",
    "$$\n",
    "\\begin{align}\n",
    "& MSE = MSE_u + MSF_f,\\\\\n",
    "& MSE_u = \\frac 1 {N_u} \\sum^{N_u}_{i=1} |u(t^i_u, x^i_u) - u^i|^2,\\\\\n",
    "& MSE_f = \\frac 1 {N_f} \\sum^{N_f}_{i=1} |f(t^i_f, x^i_f)|^2.\\\\\n",
    "\\end{align}\n",
    "$$\n",
    "这里，$\\{ {t^i_u, x^i_u, u^i} \\}^{N_u}_{i=1}$ 表示 $u(t,x)$ 上的初始和边界训练数据，$\\{{t^i_f,x^i_f}\\}^{N_f}_{i=1}$指定 $f(t,x)$ 的配置点。损失 $MSE_u$ 对应于初始和边界数据，而 $MSE_f$ 在有限的配置点集上强制执行Burgers方程施加的结构。"
   ]
  },
  {
   "cell_type": "code",
   "execution_count": null,
   "metadata": {},
   "outputs": [],
   "source": [
    "# !pip install pyDOE"
   ]
  },
  {
   "cell_type": "markdown",
   "metadata": {},
   "source": [
    "参考代码： ---"
   ]
  },
  {
   "cell_type": "code",
   "execution_count": 1,
   "metadata": {
    "scrolled": true
   },
   "outputs": [],
   "source": [
    "import sys\n",
    "# sys.path.insert(0, '../Utilities/')\n",
    "\n",
    "import torch\n",
    "from collections import OrderedDict\n",
    "\n",
    "from pyDOE import lhs\n",
    "import numpy as np\n",
    "import matplotlib.pyplot as plt\n",
    "import scipy.io\n",
    "from scipy.interpolate import griddata\n",
    "# from plotting import newfig, savefig\n",
    "from mpl_toolkits.axes_grid1 import make_axes_locatable\n",
    "import matplotlib.gridspec as gridspec\n",
    "import time\n",
    "\n",
    "np.random.seed(1234)"
   ]
  },
  {
   "cell_type": "code",
   "execution_count": 11,
   "metadata": {},
   "outputs": [
    {
     "data": {
      "text/plain": [
       "'1.10.1'"
      ]
     },
     "execution_count": 11,
     "metadata": {},
     "output_type": "execute_result"
    }
   ],
   "source": [
    "torch.__version__"
   ]
  },
  {
   "cell_type": "code",
   "execution_count": 2,
   "metadata": {},
   "outputs": [],
   "source": [
    "# CUDA support \n",
    "if torch.cuda.is_available():\n",
    "    device = torch.device('cuda')\n",
    "else:\n",
    "    device = torch.device('cpu')"
   ]
  },
  {
   "cell_type": "markdown",
   "metadata": {},
   "source": [
    "#### Physics-informed Neural Networks"
   ]
  },
  {
   "cell_type": "code",
   "execution_count": 3,
   "metadata": {},
   "outputs": [],
   "source": [
    "# the deep neural network\n",
    "class DNN(torch.nn.Module):\n",
    "    def __init__(self, layers):\n",
    "        super(DNN, self).__init__()\n",
    "        \n",
    "        # parameters\n",
    "        self.depth = len(layers) - 1\n",
    "        \n",
    "        # set up layer order dict\n",
    "        self.activation = torch.nn.Tanh\n",
    "        \n",
    "        layer_list = list()\n",
    "        for i in range(self.depth - 1): \n",
    "            layer_list.append(\n",
    "                ('layer_%d' % i, torch.nn.Linear(layers[i], layers[i+1]))\n",
    "            )\n",
    "            layer_list.append(('activation_%d' % i, self.activation()))\n",
    "            \n",
    "        layer_list.append(\n",
    "            ('layer_%d' % (self.depth - 1), torch.nn.Linear(layers[-2], layers[-1]))\n",
    "        )\n",
    "        layerDict = OrderedDict(layer_list)\n",
    "        \n",
    "        # deploy layers\n",
    "        self.layers = torch.nn.Sequential(layerDict)\n",
    "        \n",
    "    def forward(self, x):\n",
    "        out = self.layers(x)\n",
    "        return out"
   ]
  },
  {
   "cell_type": "code",
   "execution_count": 4,
   "metadata": {},
   "outputs": [],
   "source": [
    "# the physics-guided neural network\n",
    "class PhysicsInformedNN():\n",
    "    def __init__(self, X_u, u, X_f, layers, lb, ub, nu):\n",
    "        \n",
    "        # boundary conditions\n",
    "        self.lb = torch.tensor(lb).float().to(device)\n",
    "        self.ub = torch.tensor(ub).float().to(device)\n",
    "        \n",
    "        # data\n",
    "        self.x_u = torch.tensor(X_u[:, 0:1], requires_grad=True).float().to(device)\n",
    "        self.t_u = torch.tensor(X_u[:, 1:2], requires_grad=True).float().to(device)\n",
    "        self.x_f = torch.tensor(X_f[:, 0:1], requires_grad=True).float().to(device)\n",
    "        self.t_f = torch.tensor(X_f[:, 1:2], requires_grad=True).float().to(device)\n",
    "        self.u = torch.tensor(u).float().to(device)\n",
    "        \n",
    "        self.layers = layers\n",
    "        self.nu = nu\n",
    "        \n",
    "        # deep neural networks\n",
    "        self.dnn = DNN(layers).to(device)\n",
    "        \n",
    "        # optimizers: using the same settings\n",
    "        self.optimizer = torch.optim.LBFGS(\n",
    "            self.dnn.parameters(), \n",
    "            lr=1.0, \n",
    "            max_iter=50000, \n",
    "            max_eval=50000, \n",
    "            history_size=50,\n",
    "            tolerance_grad=1e-5, \n",
    "            tolerance_change=1.0 * np.finfo(float).eps,\n",
    "            line_search_fn=\"strong_wolfe\"       # can be \"strong_wolfe\"\n",
    "        )\n",
    "\n",
    "        self.iter = 0\n",
    "        \n",
    "    def net_u(self, x, t):  \n",
    "        u = self.dnn(torch.cat([x, t], dim=1))\n",
    "        return u\n",
    "    \n",
    "    def net_f(self, x, t):\n",
    "        \"\"\" The pytorch autograd version of calculating residual \"\"\"\n",
    "        u = self.net_u(x, t)\n",
    "        \n",
    "        u_t = torch.autograd.grad(\n",
    "            u, t, \n",
    "            grad_outputs=torch.ones_like(u),\n",
    "            retain_graph=True,\n",
    "            create_graph=True\n",
    "        )[0]\n",
    "        u_x = torch.autograd.grad(\n",
    "            u, x, \n",
    "            grad_outputs=torch.ones_like(u),\n",
    "            retain_graph=True,\n",
    "            create_graph=True\n",
    "        )[0]\n",
    "        u_xx = torch.autograd.grad(\n",
    "            u_x, x, \n",
    "            grad_outputs=torch.ones_like(u_x),\n",
    "            retain_graph=True,\n",
    "            create_graph=True\n",
    "        )[0]\n",
    "        \n",
    "        f = u_t + u * u_x - self.nu * u_xx\n",
    "        return f\n",
    "    \n",
    "    def loss_func(self):\n",
    "        self.optimizer.zero_grad()\n",
    "        \n",
    "        u_pred = self.net_u(self.x_u, self.t_u)\n",
    "        f_pred = self.net_f(self.x_f, self.t_f)\n",
    "        loss_u = torch.mean((self.u - u_pred) ** 2)\n",
    "        loss_f = torch.mean(f_pred ** 2)\n",
    "        \n",
    "        loss = loss_u + loss_f\n",
    "        \n",
    "        loss.backward()\n",
    "        self.iter += 1\n",
    "        if self.iter % 100 == 0:\n",
    "            print(\n",
    "                'Iter %d, Loss: %.5e, Loss_u: %.5e, Loss_f: %.5e' % (self.iter, loss.item(), loss_u.item(), loss_f.item())\n",
    "            )\n",
    "        return loss\n",
    "    \n",
    "    def train(self):\n",
    "        self.dnn.train()\n",
    "                \n",
    "        # Backward and optimize\n",
    "        self.optimizer.step(self.loss_func)\n",
    "\n",
    "            \n",
    "    def predict(self, X):\n",
    "        x = torch.tensor(X[:, 0:1], requires_grad=True).float().to(device)\n",
    "        t = torch.tensor(X[:, 1:2], requires_grad=True).float().to(device)\n",
    "\n",
    "        self.dnn.eval()\n",
    "        u = self.net_u(x, t)\n",
    "        f = self.net_f(x, t)\n",
    "        u = u.detach().cpu().numpy()\n",
    "        f = f.detach().cpu().numpy()\n",
    "        return u, f"
   ]
  },
  {
   "cell_type": "markdown",
   "metadata": {},
   "source": [
    "#### Configurations"
   ]
  },
  {
   "cell_type": "code",
   "execution_count": 5,
   "metadata": {},
   "outputs": [],
   "source": [
    "nu = 0.01/np.pi\n",
    "noise = 0.0        \n",
    "\n",
    "N_u = 100\n",
    "N_f = 10000\n",
    "layers = [2, 20, 20, 20, 20, 20, 20, 20, 20, 1]\n",
    "\n",
    "data = scipy.io.loadmat('data/burgers_shock.mat')\n",
    "\n",
    "t = data['t'].flatten()[:,None]\n",
    "x = data['x'].flatten()[:,None]\n",
    "Exact = np.real(data['usol']).T\n",
    "\n",
    "X, T = np.meshgrid(x,t)\n",
    "\n",
    "X_star = np.hstack((X.flatten()[:,None], T.flatten()[:,None]))\n",
    "u_star = Exact.flatten()[:,None]              \n",
    "\n",
    "# Doman bounds\n",
    "lb = X_star.min(0)\n",
    "ub = X_star.max(0)    \n",
    "\n",
    "xx1 = np.hstack((X[0:1,:].T, T[0:1,:].T))\n",
    "uu1 = Exact[0:1,:].T\n",
    "xx2 = np.hstack((X[:,0:1], T[:,0:1]))\n",
    "uu2 = Exact[:,0:1]\n",
    "xx3 = np.hstack((X[:,-1:], T[:,-1:]))\n",
    "uu3 = Exact[:,-1:]\n",
    "\n",
    "X_u_train = np.vstack([xx1, xx2, xx3])\n",
    "X_f_train = lb + (ub-lb)*lhs(2, N_f)\n",
    "X_f_train = np.vstack((X_f_train, X_u_train))\n",
    "u_train = np.vstack([uu1, uu2, uu3])\n",
    "\n",
    "idx = np.random.choice(X_u_train.shape[0], N_u, replace=False)\n",
    "X_u_train = X_u_train[idx, :]\n",
    "u_train = u_train[idx,:]"
   ]
  },
  {
   "cell_type": "markdown",
   "metadata": {},
   "source": [
    "#### Train"
   ]
  },
  {
   "cell_type": "code",
   "execution_count": 6,
   "metadata": {},
   "outputs": [],
   "source": [
    "model = PhysicsInformedNN(X_u_train, u_train, X_f_train, layers, lb, ub, nu)"
   ]
  },
  {
   "cell_type": "code",
   "execution_count": 7,
   "metadata": {
    "scrolled": true
   },
   "outputs": [
    {
     "name": "stdout",
     "output_type": "stream",
     "text": [
      "Iter 100, Loss: 9.29035e-02, Loss_u: 6.07754e-02, Loss_f: 3.21281e-02\n",
      "Iter 200, Loss: 5.62758e-02, Loss_u: 4.10913e-02, Loss_f: 1.51845e-02\n",
      "Iter 300, Loss: 3.25851e-02, Loss_u: 2.19337e-02, Loss_f: 1.06513e-02\n",
      "Iter 400, Loss: 1.76453e-02, Loss_u: 9.66416e-03, Loss_f: 7.98113e-03\n",
      "Iter 500, Loss: 7.40109e-03, Loss_u: 3.70301e-03, Loss_f: 3.69808e-03\n",
      "Iter 600, Loss: 3.06777e-03, Loss_u: 1.36563e-03, Loss_f: 1.70213e-03\n",
      "Iter 700, Loss: 1.54545e-03, Loss_u: 5.64569e-04, Loss_f: 9.80878e-04\n",
      "Iter 800, Loss: 8.33278e-04, Loss_u: 2.62620e-04, Loss_f: 5.70658e-04\n",
      "Iter 900, Loss: 5.86433e-04, Loss_u: 1.65065e-04, Loss_f: 4.21368e-04\n",
      "Iter 1000, Loss: 4.34520e-04, Loss_u: 1.22842e-04, Loss_f: 3.11678e-04\n",
      "Iter 1100, Loss: 3.14403e-04, Loss_u: 1.01526e-04, Loss_f: 2.12876e-04\n",
      "Iter 1200, Loss: 2.46424e-04, Loss_u: 7.95268e-05, Loss_f: 1.66897e-04\n",
      "Iter 1300, Loss: 2.07988e-04, Loss_u: 6.36699e-05, Loss_f: 1.44318e-04\n",
      "Iter 1400, Loss: 1.72997e-04, Loss_u: 4.26886e-05, Loss_f: 1.30308e-04\n",
      "Iter 1500, Loss: 1.49713e-04, Loss_u: 3.88695e-05, Loss_f: 1.10843e-04\n",
      "Iter 1600, Loss: 1.30774e-04, Loss_u: 2.84942e-05, Loss_f: 1.02279e-04\n",
      "Iter 1700, Loss: 1.12583e-04, Loss_u: 2.15810e-05, Loss_f: 9.10018e-05\n",
      "Iter 1800, Loss: 9.61888e-05, Loss_u: 1.73779e-05, Loss_f: 7.88109e-05\n",
      "Iter 1900, Loss: 8.48980e-05, Loss_u: 1.35712e-05, Loss_f: 7.13268e-05\n",
      "Iter 2000, Loss: 7.37043e-05, Loss_u: 9.52552e-06, Loss_f: 6.41788e-05\n",
      "Iter 2100, Loss: 6.50616e-05, Loss_u: 8.21515e-06, Loss_f: 5.68464e-05\n",
      "Iter 2200, Loss: 5.64339e-05, Loss_u: 7.96364e-06, Loss_f: 4.84703e-05\n",
      "Iter 2300, Loss: 5.09596e-05, Loss_u: 8.13871e-06, Loss_f: 4.28209e-05\n",
      "Iter 2400, Loss: 4.57729e-05, Loss_u: 8.56720e-06, Loss_f: 3.72057e-05\n",
      "Iter 2500, Loss: 4.19452e-05, Loss_u: 7.91883e-06, Loss_f: 3.40263e-05\n",
      "Iter 2600, Loss: 3.88559e-05, Loss_u: 7.89967e-06, Loss_f: 3.09563e-05\n",
      "Iter 2700, Loss: 3.59806e-05, Loss_u: 7.59971e-06, Loss_f: 2.83808e-05\n",
      "Iter 2800, Loss: 3.37644e-05, Loss_u: 7.75267e-06, Loss_f: 2.60117e-05\n",
      "Iter 2900, Loss: 3.11202e-05, Loss_u: 7.35131e-06, Loss_f: 2.37689e-05\n",
      "Iter 3000, Loss: 2.85292e-05, Loss_u: 7.07173e-06, Loss_f: 2.14575e-05\n",
      "Iter 3100, Loss: 2.64167e-05, Loss_u: 6.38821e-06, Loss_f: 2.00285e-05\n",
      "Iter 3200, Loss: 2.46790e-05, Loss_u: 5.78858e-06, Loss_f: 1.88904e-05\n",
      "Iter 3300, Loss: 2.33238e-05, Loss_u: 5.56899e-06, Loss_f: 1.77548e-05\n",
      "Iter 3400, Loss: 2.19923e-05, Loss_u: 5.36688e-06, Loss_f: 1.66254e-05\n",
      "Iter 3500, Loss: 2.08859e-05, Loss_u: 4.96937e-06, Loss_f: 1.59165e-05\n",
      "Iter 3600, Loss: 1.97511e-05, Loss_u: 4.81952e-06, Loss_f: 1.49316e-05\n",
      "Iter 3700, Loss: 1.86838e-05, Loss_u: 4.33411e-06, Loss_f: 1.43496e-05\n",
      "Iter 3800, Loss: 1.75947e-05, Loss_u: 3.80083e-06, Loss_f: 1.37939e-05\n",
      "Iter 3900, Loss: 1.67698e-05, Loss_u: 3.51220e-06, Loss_f: 1.32576e-05\n",
      "Iter 4000, Loss: 1.59104e-05, Loss_u: 3.32920e-06, Loss_f: 1.25812e-05\n",
      "Iter 4100, Loss: 1.48611e-05, Loss_u: 2.92079e-06, Loss_f: 1.19403e-05\n",
      "Iter 4200, Loss: 1.39493e-05, Loss_u: 2.59045e-06, Loss_f: 1.13588e-05\n",
      "Iter 4300, Loss: 1.30862e-05, Loss_u: 2.38816e-06, Loss_f: 1.06980e-05\n",
      "Iter 4400, Loss: 1.24863e-05, Loss_u: 2.22364e-06, Loss_f: 1.02626e-05\n",
      "Iter 4500, Loss: 1.17251e-05, Loss_u: 1.88465e-06, Loss_f: 9.84049e-06\n",
      "Iter 4600, Loss: 1.11779e-05, Loss_u: 1.74984e-06, Loss_f: 9.42807e-06\n",
      "Iter 4700, Loss: 1.07752e-05, Loss_u: 1.66498e-06, Loss_f: 9.11020e-06\n",
      "Iter 4800, Loss: 1.02536e-05, Loss_u: 1.55931e-06, Loss_f: 8.69431e-06\n",
      "Iter 4900, Loss: 9.83202e-06, Loss_u: 1.46909e-06, Loss_f: 8.36293e-06\n",
      "Iter 5000, Loss: 1.01618e-05, Loss_u: 1.50311e-06, Loss_f: 8.65866e-06\n",
      "Iter 5100, Loss: 8.80203e-06, Loss_u: 1.34283e-06, Loss_f: 7.45921e-06\n",
      "Iter 5200, Loss: 8.15991e-06, Loss_u: 1.24995e-06, Loss_f: 6.90996e-06\n",
      "Iter 5300, Loss: 7.66543e-06, Loss_u: 1.21400e-06, Loss_f: 6.45143e-06\n",
      "Iter 5400, Loss: 7.26559e-06, Loss_u: 1.11603e-06, Loss_f: 6.14955e-06\n",
      "Iter 5500, Loss: 6.91699e-06, Loss_u: 1.02489e-06, Loss_f: 5.89211e-06\n",
      "Iter 5600, Loss: 6.64523e-06, Loss_u: 1.00625e-06, Loss_f: 5.63898e-06\n",
      "Iter 5700, Loss: 6.36754e-06, Loss_u: 9.88469e-07, Loss_f: 5.37907e-06\n",
      "Iter 5800, Loss: 6.06887e-06, Loss_u: 9.66683e-07, Loss_f: 5.10219e-06\n",
      "Iter 5900, Loss: 5.77199e-06, Loss_u: 9.04973e-07, Loss_f: 4.86702e-06\n",
      "Iter 6000, Loss: 5.58527e-06, Loss_u: 8.44357e-07, Loss_f: 4.74091e-06\n",
      "Iter 6100, Loss: 5.41825e-06, Loss_u: 8.05439e-07, Loss_f: 4.61281e-06\n",
      "Iter 6200, Loss: 5.25042e-06, Loss_u: 8.24741e-07, Loss_f: 4.42568e-06\n",
      "Iter 6300, Loss: 5.04702e-06, Loss_u: 8.43063e-07, Loss_f: 4.20396e-06\n",
      "Iter 6400, Loss: 4.83572e-06, Loss_u: 8.11513e-07, Loss_f: 4.02421e-06\n",
      "Iter 6500, Loss: 4.71027e-06, Loss_u: 7.99702e-07, Loss_f: 3.91057e-06\n",
      "Iter 6600, Loss: 4.56763e-06, Loss_u: 8.08659e-07, Loss_f: 3.75897e-06\n",
      "Iter 6700, Loss: 4.42448e-06, Loss_u: 7.88082e-07, Loss_f: 3.63639e-06\n",
      "Iter 6800, Loss: 4.30901e-06, Loss_u: 7.49946e-07, Loss_f: 3.55906e-06\n",
      "Iter 6900, Loss: 4.18579e-06, Loss_u: 7.09653e-07, Loss_f: 3.47614e-06\n",
      "Wall time: 6min 3s\n"
     ]
    }
   ],
   "source": [
    "%%time\n",
    "               \n",
    "model.train()"
   ]
  },
  {
   "cell_type": "code",
   "execution_count": 8,
   "metadata": {},
   "outputs": [
    {
     "name": "stdout",
     "output_type": "stream",
     "text": [
      "Error u: 1.350107e-02\n"
     ]
    }
   ],
   "source": [
    "u_pred, f_pred = model.predict(X_star)\n",
    "\n",
    "error_u = np.linalg.norm(u_star-u_pred,2)/np.linalg.norm(u_star,2)\n",
    "print('Error u: %e' % (error_u))                     \n",
    "\n",
    "U_pred = griddata(X_star, u_pred.flatten(), (X, T), method='cubic')\n",
    "Error = np.abs(Exact - U_pred)"
   ]
  },
  {
   "cell_type": "markdown",
   "metadata": {},
   "source": [
    "#### Visualizations"
   ]
  },
  {
   "cell_type": "code",
   "execution_count": 9,
   "metadata": {},
   "outputs": [
    {
     "data": {
      "image/png": "[encoded data removed]",
      "text/plain": [
       "<Figure size 648x360 with 2 Axes>"
      ]
     },
     "metadata": {
      "needs_background": "light"
     },
     "output_type": "display_data"
    }
   ],
   "source": [
    "\"\"\" The aesthetic setting has changed. \"\"\"\n",
    "\n",
    "####### Row 0: u(t,x) ##################    \n",
    "\n",
    "fig = plt.figure(figsize=(9, 5))\n",
    "ax = fig.add_subplot(111)\n",
    "\n",
    "h = ax.imshow(U_pred.T, interpolation='nearest', cmap='rainbow', \n",
    "              extent=[t.min(), t.max(), x.min(), x.max()], \n",
    "              origin='lower', aspect='auto')\n",
    "divider = make_axes_locatable(ax)\n",
    "cax = divider.append_axes(\"right\", size=\"5%\", pad=0.10)\n",
    "cbar = fig.colorbar(h, cax=cax)\n",
    "cbar.ax.tick_params(labelsize=15) \n",
    "\n",
    "ax.plot(\n",
    "    X_u_train[:,1], \n",
    "    X_u_train[:,0], \n",
    "    'kx', label = 'Data (%d points)' % (u_train.shape[0]), \n",
    "    markersize = 4,  # marker size doubled\n",
    "    clip_on = False,\n",
    "    alpha=1.0\n",
    ")\n",
    "\n",
    "line = np.linspace(x.min(), x.max(), 2)[:,None]\n",
    "ax.plot(t[25]*np.ones((2,1)), line, 'w-', linewidth = 1)\n",
    "ax.plot(t[50]*np.ones((2,1)), line, 'w-', linewidth = 1)\n",
    "ax.plot(t[75]*np.ones((2,1)), line, 'w-', linewidth = 1)\n",
    "\n",
    "ax.set_xlabel('$t$', size=20)\n",
    "ax.set_ylabel('$x$', size=20)\n",
    "ax.legend(\n",
    "    loc='upper center', \n",
    "    bbox_to_anchor=(0.9, -0.05), \n",
    "    ncol=5, \n",
    "    frameon=False, \n",
    "    prop={'size': 15}\n",
    ")\n",
    "ax.set_title('$u(t,x)$', fontsize = 20) # font size doubled\n",
    "ax.tick_params(labelsize=15)\n",
    "\n",
    "plt.show()"
   ]
  },
  {
   "cell_type": "code",
   "execution_count": 10,
   "metadata": {
    "scrolled": true
   },
   "outputs": [
    {
     "data": {
      "image/png": "[encoded data removed]",
      "text/plain": [
       "<Figure size 1008x720 with 3 Axes>"
      ]
     },
     "metadata": {
      "needs_background": "light"
     },
     "output_type": "display_data"
    }
   ],
   "source": [
    "####### Row 1: u(t,x) slices ################## \n",
    "\n",
    "\"\"\" The aesthetic setting has changed. \"\"\"\n",
    "\n",
    "fig = plt.figure(figsize=(14, 10))\n",
    "ax = fig.add_subplot(111)\n",
    "\n",
    "gs1 = gridspec.GridSpec(1, 3)\n",
    "gs1.update(top=1-1.0/3.0-0.1, bottom=1.0-2.0/3.0, left=0.1, right=0.9, wspace=0.5)\n",
    "\n",
    "ax = plt.subplot(gs1[0, 0])\n",
    "ax.plot(x,Exact[25,:], 'b-', linewidth = 2, label = 'Exact')       \n",
    "ax.plot(x,U_pred[25,:], 'r--', linewidth = 2, label = 'Prediction')\n",
    "ax.set_xlabel('$x$')\n",
    "ax.set_ylabel('$u(t,x)$')    \n",
    "ax.set_title('$t = 0.25$', fontsize = 15)\n",
    "ax.axis('square')\n",
    "ax.set_xlim([-1.1,1.1])\n",
    "ax.set_ylim([-1.1,1.1])\n",
    "\n",
    "for item in ([ax.title, ax.xaxis.label, ax.yaxis.label] +\n",
    "             ax.get_xticklabels() + ax.get_yticklabels()):\n",
    "    item.set_fontsize(15)\n",
    "\n",
    "ax = plt.subplot(gs1[0, 1])\n",
    "ax.plot(x,Exact[50,:], 'b-', linewidth = 2, label = 'Exact')       \n",
    "ax.plot(x,U_pred[50,:], 'r--', linewidth = 2, label = 'Prediction')\n",
    "ax.set_xlabel('$x$')\n",
    "ax.set_ylabel('$u(t,x)$')\n",
    "ax.axis('square')\n",
    "ax.set_xlim([-1.1,1.1])\n",
    "ax.set_ylim([-1.1,1.1])\n",
    "ax.set_title('$t = 0.50$', fontsize = 15)\n",
    "ax.legend(\n",
    "    loc='upper center', \n",
    "    bbox_to_anchor=(0.5, -0.15), \n",
    "    ncol=5, \n",
    "    frameon=False, \n",
    "    prop={'size': 15}\n",
    ")\n",
    "\n",
    "for item in ([ax.title, ax.xaxis.label, ax.yaxis.label] +\n",
    "             ax.get_xticklabels() + ax.get_yticklabels()):\n",
    "    item.set_fontsize(15)\n",
    "\n",
    "ax = plt.subplot(gs1[0, 2])\n",
    "ax.plot(x,Exact[75,:], 'b-', linewidth = 2, label = 'Exact')       \n",
    "ax.plot(x,U_pred[75,:], 'r--', linewidth = 2, label = 'Prediction')\n",
    "ax.set_xlabel('$x$')\n",
    "ax.set_ylabel('$u(t,x)$')\n",
    "ax.axis('square')\n",
    "ax.set_xlim([-1.1,1.1])\n",
    "ax.set_ylim([-1.1,1.1])    \n",
    "ax.set_title('$t = 0.75$', fontsize = 15)\n",
    "\n",
    "for item in ([ax.title, ax.xaxis.label, ax.yaxis.label] +\n",
    "             ax.get_xticklabels() + ax.get_yticklabels()):\n",
    "    item.set_fontsize(15)\n",
    "\n",
    "plt.show()"
   ]
  },
  {
   "cell_type": "markdown",
   "metadata": {},
   "source": [
    "#### 原文结果\n",
    "\n",
    "下图总结了我们对Burgers方程的数据驱动解决方案的结果。\n",
    "\n",
    "![img](https://maziarraissi.github.io/assets/img/Burgers_CT_inference.png)\n",
    "\n",
    "\n",
    "\n",
    "> *Burgers方程*：**顶部**：预测解以及初始和边界训练数据。此外，我们使用10000个搭配点，这些搭配点是使用**拉丁超立方体采样策略**( Latin Hypercube Sampling strategy)生成的。**底部**：与顶部面板中白色垂直线描绘的三个时间快照相对应的预测解和精确解的比较。在一张NVIDIA Titan X GPU卡上进行模型培训大约需要60秒。\n",
    "\n",
    "------"
   ]
  },
  {
   "cell_type": "code",
   "execution_count": null,
   "metadata": {},
   "outputs": [],
   "source": []
  }
 ],
 "metadata": {
  "kernelspec": {
   "display_name": "py3.6",
   "language": "python",
   "name": "py3.6"
  },
  "language_info": {
   "codemirror_mode": {
    "name": "ipython",
    "version": 3
   },
   "file_extension": ".py",
   "mimetype": "text/x-python",
   "name": "python",
   "nbconvert_exporter": "python",
   "pygments_lexer": "ipython3",
   "version": "3.6.13"
  }
 },
 "nbformat": 4,
 "nbformat_minor": 2
}
