{
 "cells": [
  {
   "cell_type": "markdown",
   "metadata": {},
   "source": [
    "### 运行版本"
   ]
  },
  {
   "cell_type": "code",
   "execution_count": 1,
   "metadata": {},
   "outputs": [
    {
     "data": {
      "text/plain": [
       "'3.8.13 (default, Mar 28 2022, 06:59:08) [MSC v.1916 64 bit (AMD64)]'"
      ]
     },
     "execution_count": 1,
     "metadata": {},
     "output_type": "execute_result"
    }
   ],
   "source": [
    "import sys\n",
    "\n",
    "sys.version"
   ]
  },
  {
   "cell_type": "code",
   "execution_count": 2,
   "metadata": {},
   "outputs": [
    {
     "data": {
      "text/plain": [
       "'2.6.0'"
      ]
     },
     "execution_count": 2,
     "metadata": {},
     "output_type": "execute_result"
    }
   ],
   "source": [
    "import tensorflow\n",
    "\n",
    "tensorflow.__version__"
   ]
  },
  {
   "cell_type": "code",
   "execution_count": 3,
   "metadata": {},
   "outputs": [
    {
     "data": {
      "text/plain": [
       "'1.10.1'"
      ]
     },
     "execution_count": 3,
     "metadata": {},
     "output_type": "execute_result"
    }
   ],
   "source": [
    "import torch\n",
    "\n",
    "torch.__version__"
   ]
  },
  {
   "cell_type": "code",
   "execution_count": 4,
   "metadata": {},
   "outputs": [],
   "source": [
    "# !python -m deepxde.backend.set_default_backend tensorflow.compat.v1"
   ]
  },
  {
   "cell_type": "code",
   "execution_count": 5,
   "metadata": {
    "scrolled": true
   },
   "outputs": [
    {
     "name": "stderr",
     "output_type": "stream",
     "text": [
      "Using backend: tensorflow\n",
      "\n"
     ]
    },
    {
     "data": {
      "text/plain": [
       "'1.1.3'"
      ]
     },
     "execution_count": 5,
     "metadata": {},
     "output_type": "execute_result"
    }
   ],
   "source": [
    "import deepxde\n",
    "\n",
    "deepxde.__version__"
   ]
  },
  {
   "cell_type": "code",
   "execution_count": null,
   "metadata": {},
   "outputs": [],
   "source": []
  },
  {
   "cell_type": "markdown",
   "metadata": {},
   "source": [
    "# 3 热方程(Heat equation)\n",
    "\n",
    "\"热像引力一样穿透宇宙所有物质，辐射整个空间“。                                \n",
    "\n",
    "​\t\t\t\t\t\t\t\t\t\t\t\t\t\t\t\t\t\t\t\t\t\t\t\t\t——傅立叶《热分析理论》1822\n",
    "\n",
    "\n",
    "## 3.1 什么是热传导方程\n",
    "\n",
    "热传导方程(heat equation)\n",
    "$$\n",
    "\\large u_t - \\Delta u = 0,  \\tag{3.1}\n",
    "$$\n",
    "以及非齐次热传导方程\n",
    "$$\n",
    "\\large u_t - \\Delta u = f.  \\tag{3.2}\n",
    "$$\n",
    "其中给定合适的初值与边界条件. 这里 $t>0,x\\in U \\subset \\mathbb{R}^n$ 为开集. 不确定的东西是 $\\large u:\\bar{U} \\times[0,\\infty) \\to \\mathbb{R}, u = u(x,t)$，而Laplace算子是关于空间 $x=(x_1,\\cdots,x_n)$ 的, 即 $\\Delta u = \\Delta_x u = \\sum^n_{i=1} u_{x_i x_i}$ 在非齐次的方程中 $f:U\\times[0,\\infty) \\to \\mathbb{R}$ 是给定的.\n",
    "\n",
    "\n",
    "\n",
    "## 3.2 基本解\n",
    "\n",
    "**定义3.1 [热传导方程的基本解]** 定义函数\n",
    "$$\n",
    "\\large\n",
    "\\Phi(x,t) \\triangleq \n",
    "\\begin{cases}\n",
    "\\begin{aligned}\n",
    "&\\frac{1}{(4\\pi t)^{n/2}} e^{-\\frac{|x|^2}{4t}}, & x \\in \\mathbb{R}^n, t > 0\\\\\n",
    "&0, & x \\in \\mathbb{R}^n, t \\leq 0\\\\\n",
    "\\end{aligned}\n",
    "\\end{cases}\n",
    "\\tag{3.3} \\\\\n",
    "$$\n",
    "为热传导方程的基本解。\n",
    "\n",
    "\n",
    "\n",
    "## 3.3 齐次初值问题\n",
    "\n",
    "下面用 $\\Phi(x,t) $ 来解下面的初值(Cauchy)PDE:\n",
    "$$\n",
    "\\large\n",
    "\\begin{cases}\n",
    "\\begin{aligned}\n",
    "u_{t}-\\Delta u &= 0, in \\ \\mathbb{R}^n \\times (0,\\infty) \\\\ \n",
    "u &= g, on \\ \\mathbb{R}^n \\times \\{t=0\\}.  \\\\ \n",
    "\\end{aligned}\n",
    "\\end{cases} \n",
    "\\tag{3,4}\n",
    "$$\n",
    "\n",
    "仿照Laplace方程的过程, 如果我们作一个卷积\n",
    "$$\n",
    "\\large\n",
    "\\begin{align}\n",
    "u(x,t) &= \\int_{\\mathbb{R}^n} \\Phi(x-y,t)g(y)dy\\\\\n",
    "       &= \\frac{1}{(4\\pi t)^{n/2}} \\int_{\\mathbb{R}^n} e^{-\\frac{|x-y|^2}{4t}}g(y)dy(x\\in \\mathbb{R}^n,t>0) \\\\\n",
    "\\tag{3.5}\n",
    "\\end{align}\n",
    "$$\n",
    "**定理1.2 [初值问题的解]** 设 $\\large g \\in C(\\mathbb{R}^n) \\cap L^{\\infty}(\\mathbb{R}^n)$，定义 $u$ 如式(3.5)，则\n",
    "\n",
    "（1） $\\large u\\in C^{\\infty}(\\mathbb{R}^n \\times (0,\\infty))$，\n",
    "\n",
    "（2）$\\large u_t(x,t)-\\Delta u(x,t) = 0, (x\\in \\mathbb{R}^n,t>0)$，\n",
    "\n",
    "（3）$\\large \\lim_{(x,t)\\to (x^0,0)} u(x,t) = g(x^0), \\forall x^0 \\in \\mathbb{R}^n, 这里x\\in \\mathbb{R}^n, t>0$。\n",
    "\n",
    "## 3.4 非齐次问题\n",
    "\n",
    "下面考虑非齐次问题\n",
    "$$\n",
    "\\large\n",
    "\\begin{cases}\n",
    "\\begin{aligned}\n",
    "u_{t}-\\Delta u &= f, in \\ \\mathbb{R}^n \\times (0,\\infty) \\\\ \n",
    "u &= 0, on \\ \\mathbb{R}^n \\times \\{t=0\\}.  \\\\ \n",
    "\\end{aligned}\n",
    "\\end{cases} \n",
    "\\tag{3,6}\n",
    "$$\n",
    "\n",
    "$$\n",
    "\\large\n",
    "\\begin{align*}\n",
    "u(x,t) &= \\int^t_0 u(x,t;s)ds \\\\\n",
    "       &= \\int^t_0 \\int_{\\mathbb{R}^n} \\Phi(x-y,t-s)f(y,s)dyds \\\\\n",
    "       &= \\int^t_0 \\frac{1}{(4\\pi (t-s))^{n/2}} \\int_{\\mathbb{R}^n} e^{-\\frac{|x-y|^2}{4(t-s)}}f(y,s)dyds,\\\\\n",
    "\\tag{3.7}\n",
    "\\end{align*}\n",
    "$$\n",
    "\n",
    "**定理1.3 [非齐次问题的解]** 定义 $u$ 如式(3.7), 则\n",
    "\n",
    "（1） $\\large u\\in C^2_1(\\mathbb{R}^n \\times (0,\\infty))$，\n",
    "\n",
    "（2）$\\large u_t(x,t)-\\Delta u(x,t) = f(x,t), (x\\in \\mathbb{R}^n,t>0)$，\n",
    "\n",
    "（3）$\\large \\lim_{(x,t)\\to (x^0,0)} u(x,t) = 0, \\forall x^0 \\in \\mathbb{R}^n, 这里x\\in \\mathbb{R}^n, t>0$。\n",
    "\n"
   ]
  },
  {
   "cell_type": "markdown",
   "metadata": {},
   "source": [
    "## 代码来源\n",
    "https://github.com/lululxvi/deepxde/blob/master/examples/pinn_forward/heat_conduction_1d_uniform_bar.ipynb"
   ]
  },
  {
   "cell_type": "markdown",
   "metadata": {},
   "source": [
    "在本代码中，我们将使用 DeepXDE 库中的 PINN 来求解热方程(heat equation)。\n",
    "\n",
    "热方程的形式如下:\n",
    "$$\\large \\frac{\\partial u}{\\partial t} = \\alpha \\nabla^2 u\\;$$ .\n",
    "\n",
    "其中 $\\nabla^2$ 是拉普拉斯微分算子，$\\alpha$ 是热扩散率常数，$u$ 是我们要近似的函数(温度)。\n",
    "\n",
    "在一维情况下，我们有:$$\\large \\frac{\\partial u(x, t)}{\\partial t} = \\alpha \\frac{\\partial^2u(x,t)}{{\\partial x}^2}\\;, \\;\\;\\;\\; x \\in [0, 1]\\;, \\;\\;\\;\\; t \\in [0, 1]\\;$$.\n",
    "\n",
    "具有 Dirichlet 边界条件: $$\\large u(0, t) = u(1, t) = 0\\;$$ , \n",
    "\n",
    "和周期性(sinoidal)初始条件: $$\\large u(x, 0) = sin(n\\pi x/L)\\;, \\;\\;\\;\\; 0 < x < L\\;, \\;\\;\\;\\; n = 1, 2, ...\\;.$$\n",
    "\n",
    "这种设置是许多微分方程教科书中常见的问题，可以被物理解释为均匀一维杆中温度随时间的变化。在这里，常量 $\\alpha$ 是热扩散率(棒的材料属性) ，$L$ 是棒的长度。"
   ]
  },
  {
   "cell_type": "code",
   "execution_count": 1,
   "metadata": {},
   "outputs": [
    {
     "name": "stderr",
     "output_type": "stream",
     "text": [
      "Using backend: tensorflow\n",
      "\n"
     ]
    }
   ],
   "source": [
    "# Import libraries:\n",
    "import matplotlib.pyplot as plt\n",
    "import numpy as np\n",
    "\n",
    "import deepxde as dde\n",
    "from deepxde.backend import tf"
   ]
  },
  {
   "cell_type": "code",
   "execution_count": 2,
   "metadata": {},
   "outputs": [],
   "source": [
    "def heat_eq_exact_solution(x, t):\n",
    "    \"\"\"\n",
    "    Returns the exact solution for a given x and t (for sinusoidal initial conditions).\n",
    "    \n",
    "    Parameters\n",
    "    ----------\n",
    "    x : np.ndarray\n",
    "    t : np.ndarray\n",
    "    \"\"\"\n",
    "    \n",
    "    return np.exp(-(n**2*np.pi**2*a*t)/(L**2))*np.sin(n*np.pi*x/L)\n",
    "\n",
    "def gen_exact_solution():\n",
    "    \"\"\"\n",
    "    Generates exact solution for the heat equation for the given values of x and t.\n",
    "    \"\"\"\n",
    "    \n",
    "    # Number of points in each dimension:\n",
    "    x_dim, t_dim = (256, 201)\n",
    "\n",
    "    # Bounds of 'x' and 't':\n",
    "    x_min, t_min = (0, 0.)\n",
    "    x_max, t_max = (L, 1.)\n",
    "\n",
    "    # Create tensors:\n",
    "    t = np.linspace(t_min, t_max, num=t_dim).reshape(t_dim, 1)\n",
    "    x = np.linspace(x_min, x_max, num=x_dim).reshape(x_dim, 1)\n",
    "    usol = np.zeros((x_dim, t_dim)).reshape(x_dim, t_dim)\n",
    "\n",
    "    # Obtain the value of the exact solution for each generated point:\n",
    "    for i in range(x_dim):\n",
    "        for j in range(t_dim):\n",
    "            usol[i][j] = heat_eq_exact_solution(x[i],t[j])\n",
    "\n",
    "    # Save solution:\n",
    "    np.savez('heat_eq_data', x=x, t=t, usol=usol)\n",
    "    data = np.load('heat_eq_data.npz')\n",
    "\n",
    "\n",
    "def gen_testdata():\n",
    "    \"\"\"\n",
    "    Import and preprocess the dataset with the exact solution.\n",
    "    \"\"\"\n",
    "    \n",
    "    # Load the data:\n",
    "    data = np.load('heat_eq_data.npz')\n",
    "    \n",
    "    # Obtain the values for t, x, and the excat solution:\n",
    "    t, x, exact = data[\"t\"], data[\"x\"], data[\"usol\"].T\n",
    "    \n",
    "    # Process the data and flatten it out (like labels and features):\n",
    "    xx, tt = np.meshgrid(x, t)\n",
    "    X = np.vstack((np.ravel(xx), np.ravel(tt))).T\n",
    "    y = exact.flatten()[:, None]\n",
    "    \n",
    "    return X, y\n",
    "\n",
    "def main():\n",
    "\n",
    "    def pde(x, y):\n",
    "        \"\"\"\n",
    "        Expresses the PDE residual of the heat equation.        \n",
    "        \"\"\"\n",
    "        dy_t = dde.grad.jacobian(y, x, i=0, j=1)\n",
    "        dy_xx = dde.grad.hessian(y, x, i=0, j=0)\n",
    "        return dy_t - a*dy_xx\n",
    "\n",
    "    # Computational geometry:\n",
    "    geom = dde.geometry.Interval(0, L)\n",
    "    timedomain = dde.geometry.TimeDomain(0, 1)\n",
    "    geomtime = dde.geometry.GeometryXTime(geom, timedomain)\n",
    "\n",
    "    # Initial and boundary conditions:\n",
    "    bc = dde.DirichletBC(geomtime, lambda x: 0, lambda _, on_boundary: on_boundary)\n",
    "    ic = dde.IC(\n",
    "        geomtime, lambda x: np.sin(n*np.pi*x[:, 0:1]/L), lambda _, on_initial: on_initial\n",
    "        )\n",
    "\n",
    "    # Define the PDE problem and configurations of the network:\n",
    "    data = dde.data.TimePDE(\n",
    "        geomtime, pde, [bc, ic], num_domain=2540, num_boundary=80, num_initial=160, num_test=2540\n",
    "    )\n",
    "    net = dde.nn.FNN([2] + [20] * 3 + [1], \"tanh\", \"Glorot normal\")\n",
    "    model = dde.Model(data, net)\n",
    "\n",
    "    # Build and train the model:\n",
    "    model.compile(\"adam\", lr=1e-3)\n",
    "    model.train(epochs=20000)\n",
    "    model.compile(\"L-BFGS\")\n",
    "    losshistory, train_state = model.train()\n",
    "\n",
    "    # Plot/print the results\n",
    "    dde.saveplot(losshistory, train_state, issave=True, isplot=True)\n",
    "    X, y_true = gen_testdata()\n",
    "    y_pred = model.predict(X)\n",
    "    f = model.predict(X, operator=pde)\n",
    "    print(\"Mean residual:\", np.mean(np.absolute(f)))\n",
    "    print(\"L2 relative error:\", dde.metrics.l2_relative_error(y_true, y_pred))\n",
    "    np.savetxt(\"test.dat\", np.hstack((X, y_true, y_pred)))"
   ]
  },
  {
   "cell_type": "code",
   "execution_count": 3,
   "metadata": {
    "scrolled": true
   },
   "outputs": [
    {
     "name": "stderr",
     "output_type": "stream",
     "text": [
      "G:\\Anaconda3\\envs\\py3.8\\lib\\site-packages\\skopt\\sampler\\sobol.py:246: UserWarning: The balance properties of Sobol' points require n to be a power of 2. 0 points have been previously generated, then: n=0+2542=2542. \n",
      "  warnings.warn(\"The balance properties of Sobol' points require \"\n",
      "G:\\Anaconda3\\envs\\py3.8\\lib\\site-packages\\skopt\\sampler\\sobol.py:246: UserWarning: The balance properties of Sobol' points require n to be a power of 2. 0 points have been previously generated, then: n=0+82=82. \n",
      "  warnings.warn(\"The balance properties of Sobol' points require \"\n",
      "G:\\Anaconda3\\envs\\py3.8\\lib\\site-packages\\skopt\\sampler\\sobol.py:246: UserWarning: The balance properties of Sobol' points require n to be a power of 2. 0 points have been previously generated, then: n=0+162=162. \n",
      "  warnings.warn(\"The balance properties of Sobol' points require \"\n"
     ]
    },
    {
     "name": "stdout",
     "output_type": "stream",
     "text": [
      "Warning: 2540 points required, but 2550 points sampled.\n",
      "Compiling model...\n",
      "'compile' took 0.000367 s\n",
      "\n",
      "Training model...\n",
      "\n",
      "WARNING:tensorflow:AutoGraph could not transform <function main.<locals>.<lambda> at 0x00000209D80B98B0> and will run it as-is.\n",
      "Cause: could not parse the source code of <function main.<locals>.<lambda> at 0x00000209D80B98B0>: no matching AST found\n",
      "To silence this warning, decorate the function with @tf.autograph.experimental.do_not_convert\n",
      "WARNING: AutoGraph could not transform <function main.<locals>.<lambda> at 0x00000209D80B98B0> and will run it as-is.\n",
      "Cause: could not parse the source code of <function main.<locals>.<lambda> at 0x00000209D80B98B0>: no matching AST found\n",
      "To silence this warning, decorate the function with @tf.autograph.experimental.do_not_convert\n",
      "WARNING:tensorflow:AutoGraph could not transform <function main.<locals>.<lambda> at 0x00000209D80B9AF0> and will run it as-is.\n",
      "Cause: could not parse the source code of <function main.<locals>.<lambda> at 0x00000209D80B9AF0>: no matching AST found\n",
      "To silence this warning, decorate the function with @tf.autograph.experimental.do_not_convert\n",
      "WARNING: AutoGraph could not transform <function main.<locals>.<lambda> at 0x00000209D80B9AF0> and will run it as-is.\n",
      "Cause: could not parse the source code of <function main.<locals>.<lambda> at 0x00000209D80B9AF0>: no matching AST found\n",
      "To silence this warning, decorate the function with @tf.autograph.experimental.do_not_convert\n",
      "Step      Train loss                        Test loss                         Test metric\n",
      "0         [7.75e-04, 1.34e-02, 6.42e-01]    [7.36e-04, 1.34e-02, 6.42e-01]    []  \n",
      "1000      [1.81e-03, 9.81e-04, 9.12e-04]    [1.25e-03, 9.81e-04, 9.12e-04]    []  \n",
      "2000      [4.23e-04, 1.05e-04, 1.18e-04]    [2.68e-04, 1.05e-04, 1.18e-04]    []  \n",
      "3000      [2.56e-04, 2.98e-05, 5.80e-05]    [1.60e-04, 2.98e-05, 5.80e-05]    []  \n",
      "4000      [1.73e-04, 1.40e-05, 3.17e-05]    [1.10e-04, 1.40e-05, 3.17e-05]    []  \n",
      "5000      [1.26e-04, 1.01e-05, 2.10e-05]    [8.30e-05, 1.01e-05, 2.10e-05]    []  \n",
      "6000      [1.02e-04, 1.72e-05, 2.41e-05]    [6.40e-05, 1.72e-05, 2.41e-05]    []  \n",
      "7000      [7.72e-05, 5.25e-06, 9.09e-06]    [5.13e-05, 5.25e-06, 9.09e-06]    []  \n",
      "8000      [6.56e-05, 2.62e-05, 5.16e-05]    [4.79e-05, 2.62e-05, 5.16e-05]    []  \n",
      "9000      [5.11e-05, 3.08e-06, 5.64e-06]    [3.52e-05, 3.08e-06, 5.64e-06]    []  \n",
      "10000     [4.26e-05, 2.44e-06, 4.26e-06]    [3.00e-05, 2.44e-06, 4.26e-06]    []  \n",
      "11000     [3.63e-05, 2.18e-06, 3.44e-06]    [2.61e-05, 2.18e-06, 3.44e-06]    []  \n",
      "12000     [4.01e-04, 1.79e-04, 4.07e-05]    [3.38e-04, 1.79e-04, 4.07e-05]    []  \n",
      "13000     [4.08e-05, 6.56e-06, 3.75e-06]    [2.67e-05, 6.56e-06, 3.75e-06]    []  \n",
      "14000     [1.32e-04, 6.63e-05, 2.08e-05]    [1.13e-04, 6.63e-05, 2.08e-05]    []  \n",
      "15000     [2.14e-05, 1.27e-06, 1.78e-06]    [1.60e-05, 1.27e-06, 1.78e-06]    []  \n",
      "16000     [1.93e-05, 1.18e-06, 1.59e-06]    [1.45e-05, 1.18e-06, 1.59e-06]    []  \n",
      "17000     [1.75e-05, 1.11e-06, 1.50e-06]    [1.33e-05, 1.11e-06, 1.50e-06]    []  \n",
      "18000     [1.60e-05, 1.03e-06, 1.35e-06]    [1.19e-05, 1.03e-06, 1.35e-06]    []  \n",
      "19000     [1.48e-05, 2.48e-06, 3.36e-06]    [1.07e-05, 2.48e-06, 3.36e-06]    []  \n",
      "20000     [1.64e-05, 8.80e-07, 1.55e-06]    [1.14e-05, 8.80e-07, 1.55e-06]    []  \n",
      "\n",
      "Best model at step 18000:\n",
      "  train loss: 1.84e-05\n",
      "  test loss: 1.43e-05\n",
      "  test metric: []\n",
      "\n",
      "'train' took 58.161812 s\n",
      "\n",
      "Compiling model...\n",
      "'compile' took 0.013748 s\n",
      "\n",
      "Training model...\n",
      "\n",
      "Step      Train loss                        Test loss                         Test metric\n",
      "20000     [1.64e-05, 8.80e-07, 1.55e-06]    [1.14e-05, 8.80e-07, 1.55e-06]    []  \n",
      "20162     [2.66e-06, 3.38e-07, 9.08e-08]    [2.05e-06, 3.38e-07, 9.08e-08]    []  \n",
      "\n",
      "Best model at step 20162:\n",
      "  train loss: 3.09e-06\n",
      "  test loss: 2.48e-06\n",
      "  test metric: []\n",
      "\n",
      "'train' took 27.380236 s\n",
      "\n",
      "Saving loss history to E:\\noetbook\\毕业论文\\loss.dat ...\n",
      "Saving training data to E:\\noetbook\\毕业论文\\train.dat ...\n",
      "Saving test data to E:\\noetbook\\毕业论文\\test.dat ...\n"
     ]
    },
    {
     "data": {
      "image/png": "[encoded data removed]",
      "text/plain": [
       "<Figure size 432x288 with 1 Axes>"
      ]
     },
     "metadata": {
      "needs_background": "light"
     },
     "output_type": "display_data"
    },
    {
     "data": {
      "image/png": "[encoded data removed]",
      "text/plain": [
       "<Figure size 432x288 with 1 Axes>"
      ]
     },
     "metadata": {
      "needs_background": "light"
     },
     "output_type": "display_data"
    },
    {
     "name": "stdout",
     "output_type": "stream",
     "text": [
      "Mean residual: 0.0011916433\n",
      "L2 relative error: 0.001267322116966461\n"
     ]
    }
   ],
   "source": [
    "if __name__ == \"__main__\":\n",
    "\n",
    "    # Problem parameters:\n",
    "    a = 0.4 # Thermal diffusivity\n",
    "    L = 1 # Length of the bar\n",
    "    n = 1 # Frequency of the sinusoidal initial conditions\n",
    "\n",
    "    # Generate a dataset with the exact solution (if you dont have one):\n",
    "    gen_exact_solution()\n",
    "\n",
    "    # Solve the equation:\n",
    "    main()"
   ]
  },
  {
   "cell_type": "code",
   "execution_count": null,
   "metadata": {},
   "outputs": [],
   "source": []
  },
  {
   "cell_type": "code",
   "execution_count": null,
   "metadata": {},
   "outputs": [],
   "source": []
  },
  {
   "cell_type": "code",
   "execution_count": null,
   "metadata": {},
   "outputs": [],
   "source": []
  }
 ],
 "metadata": {
  "kernelspec": {
   "display_name": "py3.8",
   "language": "python",
   "name": "py3.8"
  },
  "language_info": {
   "codemirror_mode": {
    "name": "ipython",
    "version": 3
   },
   "file_extension": ".py",
   "mimetype": "text/x-python",
   "name": "python",
   "nbconvert_exporter": "python",
   "pygments_lexer": "ipython3",
   "version": "3.8.13"
  }
 },
 "nbformat": 4,
 "nbformat_minor": 2
}
