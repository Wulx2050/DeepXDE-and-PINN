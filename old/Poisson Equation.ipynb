{
 "cells": [
  {
   "cell_type": "markdown",
   "metadata": {},
   "source": [
    "### 运行版本"
   ]
  },
  {
   "cell_type": "code",
   "execution_count": 1,
   "metadata": {},
   "outputs": [
    {
     "data": {
      "text/plain": [
       "'3.8.13 (default, Mar 28 2022, 06:59:08) [MSC v.1916 64 bit (AMD64)]'"
      ]
     },
     "execution_count": 1,
     "metadata": {},
     "output_type": "execute_result"
    }
   ],
   "source": [
    "import sys\n",
    "\n",
    "sys.version"
   ]
  },
  {
   "cell_type": "code",
   "execution_count": 2,
   "metadata": {},
   "outputs": [
    {
     "data": {
      "text/plain": [
       "'2.6.0'"
      ]
     },
     "execution_count": 2,
     "metadata": {},
     "output_type": "execute_result"
    }
   ],
   "source": [
    "import tensorflow\n",
    "\n",
    "tensorflow.__version__"
   ]
  },
  {
   "cell_type": "code",
   "execution_count": 3,
   "metadata": {},
   "outputs": [
    {
     "data": {
      "text/plain": [
       "'1.10.1'"
      ]
     },
     "execution_count": 3,
     "metadata": {},
     "output_type": "execute_result"
    }
   ],
   "source": [
    "import torch\n",
    "\n",
    "torch.__version__"
   ]
  },
  {
   "cell_type": "code",
   "execution_count": 4,
   "metadata": {},
   "outputs": [],
   "source": [
    "# !python -m deepxde.backend.set_default_backend tensorflow.compat.v1"
   ]
  },
  {
   "cell_type": "code",
   "execution_count": 5,
   "metadata": {},
   "outputs": [
    {
     "name": "stderr",
     "output_type": "stream",
     "text": [
      "Using backend: tensorflow.compat.v1\n",
      "\n"
     ]
    },
    {
     "name": "stdout",
     "output_type": "stream",
     "text": [
      "WARNING:tensorflow:From G:\\Anaconda3\\envs\\py3.8\\lib\\site-packages\\tensorflow\\python\\compat\\v2_compat.py:101: disable_resource_variables (from tensorflow.python.ops.variable_scope) is deprecated and will be removed in a future version.\n",
      "Instructions for updating:\n",
      "non-resource variables are not supported in the long term\n",
      "WARNING:tensorflow:From G:\\Anaconda3\\envs\\py3.8\\lib\\site-packages\\deepxde\\nn\\initializers.py:118: The name tf.keras.initializers.he_normal is deprecated. Please use tf.compat.v1.keras.initializers.he_normal instead.\n",
      "\n"
     ]
    },
    {
     "data": {
      "text/plain": [
       "'1.1.3'"
      ]
     },
     "execution_count": 5,
     "metadata": {},
     "output_type": "execute_result"
    }
   ],
   "source": [
    "import deepxde\n",
    "\n",
    "deepxde.__version__"
   ]
  },
  {
   "cell_type": "code",
   "execution_count": null,
   "metadata": {},
   "outputs": [],
   "source": []
  },
  {
   "cell_type": "markdown",
   "metadata": {},
   "source": [
    "代码来源： https://deepxde.readthedocs.io/en/latest/demos/pinn_forward/poisson.1d.dirichletperiodic.html"
   ]
  },
  {
   "cell_type": "markdown",
   "metadata": {},
   "source": [
    "# Poisson方程\n",
    "\n",
    "## 2.1 基本定义\n",
    "\n",
    "记 $\\large x=(x_1,\\cdots,x_n) \\in \\mathbb{R}^n, u=u(x), 拉普拉斯算子 \\Delta u = \\sum^n_{i=1} u_{x_i x_i} $，Laplace方程又称为“**位势方程**”, 最有用的PDE之一无疑。包括Laplace方程\n",
    "$$\n",
    "\\large \\Delta u = 0 \\tag{2.1}\n",
    "$$\n",
    "以及Poisson方程\n",
    "$$\n",
    "\\large - \\Delta u = f.  \\tag{2.2}\n",
    "$$\n",
    "在上面两个方程中，$x \\in U$ 且未知量为 $\\large u:\\bar{U} \\to \\mathbb{R}, u = u(x)$，这里 $u \\subset \\mathbb{R}^n$ 是开集. 而在第二个方程中 $f:U \\to \\mathbb{R}$ 也是给定的。"
   ]
  },
  {
   "cell_type": "markdown",
   "metadata": {},
   "source": [
    "\n",
    "## 2.2 问题设置\n",
    "- 具有狄利克雷/周期边界条件的一维泊松方程\n",
    "\n",
    "我们将求解一个泊松方程：$$\\large −Δu=π^2sin(πx),x∈[−1,1], \\tag{2.3}$$\n",
    "\n",
    "在右边界上具有周期性边界条件: $$u(0)=u(1).$$\n",
    "\n",
    "和左边界上的狄利克雷边界条件: $$u(−1)=0.$$ \n",
    "\n",
    "确切的解决方案是 $$\\large u(x)=sin(πx).$$ \n",
    "\n",
    "mathematica求解代码\n",
    "```mathematica\n",
    "DSolve[{-D[u[x], {x, 2}] == Pi^2 Sin[Pi x], u[0] == u[1], u[-1] == 0}, u[x], {x}]\n",
    "```"
   ]
  },
  {
   "cell_type": "code",
   "execution_count": 1,
   "metadata": {
    "scrolled": true
   },
   "outputs": [
    {
     "name": "stderr",
     "output_type": "stream",
     "text": [
      "Using backend: tensorflow.compat.v1\n",
      "\n"
     ]
    },
    {
     "name": "stdout",
     "output_type": "stream",
     "text": [
      "WARNING:tensorflow:From G:\\Anaconda3\\envs\\py3.8\\lib\\site-packages\\tensorflow\\python\\compat\\v2_compat.py:101: disable_resource_variables (from tensorflow.python.ops.variable_scope) is deprecated and will be removed in a future version.\n",
      "Instructions for updating:\n",
      "non-resource variables are not supported in the long term\n",
      "WARNING:tensorflow:From G:\\Anaconda3\\envs\\py3.8\\lib\\site-packages\\deepxde\\nn\\initializers.py:118: The name tf.keras.initializers.he_normal is deprecated. Please use tf.compat.v1.keras.initializers.he_normal instead.\n",
      "\n"
     ]
    }
   ],
   "source": [
    "# 首先，导入 DeepXDE 和 TensorFlow ( `tf`) 模块：\n",
    "\n",
    "import deepxde as dde\n",
    "import numpy as np\n",
    "from deepxde.backend import tf"
   ]
  },
  {
   "cell_type": "markdown",
   "metadata": {},
   "source": [
    "定义泊松方程：$\\large −Δu=π^2sin(πx),x∈[−1,1]$"
   ]
  },
  {
   "cell_type": "code",
   "execution_count": 2,
   "metadata": {},
   "outputs": [],
   "source": [
    "# 几何区域\n",
    "geom = dde.geometry.Interval(-1, 1)\n",
    "\n",
    "\n",
    "# 偏微分方程\n",
    "def pde(x, y):\n",
    "    \"\"\"\n",
    "    x: network input,  x-coordinate\n",
    "    y: network output, the solution u(x),but here we use y as the name of the variable.\n",
    "    return: −Δ𝑢 -π^2 𝑠𝑖𝑛(π𝑥)\n",
    "    \"\"\"\n",
    "    dy_xx = dde.grad.hessian(y, x)\n",
    "    return -dy_xx - np.pi ** 2 * tf.sin(np.pi * x)"
   ]
  },
  {
   "cell_type": "markdown",
   "metadata": {},
   "source": [
    "定义边界条件\n",
    "\n",
    "在右边界上具有周期性边界条件: $u(0)=u(1).$\n",
    "\n",
    "和左边界上的狄利克雷边界条件: $u(−1)=0.$"
   ]
  },
  {
   "cell_type": "code",
   "execution_count": 3,
   "metadata": {},
   "outputs": [],
   "source": [
    "def boundary_r(x, on_boundary):\n",
    "    return on_boundary and np.isclose(x[0], 1)\n",
    "\n",
    "def boundary_l(x, on_boundary):\n",
    "    return on_boundary and np.isclose(x[0], -1)\n",
    "\n",
    "# define a function to return the value of u(x) for the points x on the Dirichlet boundary.\n",
    "def func(x):\n",
    "    return np.sin(np.pi * x)\n",
    "\n",
    "\n",
    "# 狄利克雷边界条件\n",
    "bc1 = dde.DirichletBC(geom, func, boundary_l) \n",
    "# 周期性边界条件\n",
    "bc2 = dde.PeriodicBC(geom, 0, boundary_r) "
   ]
  },
  {
   "cell_type": "code",
   "execution_count": 4,
   "metadata": {},
   "outputs": [
    {
     "name": "stderr",
     "output_type": "stream",
     "text": [
      "G:\\Anaconda3\\envs\\py3.8\\lib\\site-packages\\skopt\\sampler\\sobol.py:246: UserWarning: The balance properties of Sobol' points require n to be a power of 2. 0 points have been previously generated, then: n=0+18=18. \n",
      "  warnings.warn(\"The balance properties of Sobol' points require \"\n"
     ]
    }
   ],
   "source": [
    "data = dde.data.PDE(geom, pde, [bc1, bc2], 16, 2, solution=func, num_test=100)\n",
    "\n",
    "# 数字 16 是在域内采样的训练残差点数，数字 2 是在边界上采样的训练点数。\n",
    "# 参数`solution=func`是计算我们解决方案误差的参考解决方案，如果我们没有参考解决方案，可以忽略。\n",
    "# 我们使用 100 个残差点来测试 PDE 残差。"
   ]
  },
  {
   "cell_type": "markdown",
   "metadata": {},
   "source": [
    "net"
   ]
  },
  {
   "cell_type": "code",
   "execution_count": 5,
   "metadata": {},
   "outputs": [],
   "source": [
    "# 深度为 4（即 3 个隐藏层）和宽度为 50 的全连接神经网络\n",
    "layer_size = [1] + [50] * 3 + [1]\n",
    "activation = \"tanh\"\n",
    "initializer = \"Glorot uniform\"\n",
    "net = dde.nn.FNN(layer_size, activation, initializer)"
   ]
  },
  {
   "cell_type": "markdown",
   "metadata": {},
   "source": [
    "model\n",
    "\n",
    "构建一个`Model`并选择优化器和学习率,L2相对误差作为训练期间的指标"
   ]
  },
  {
   "cell_type": "code",
   "execution_count": 6,
   "metadata": {},
   "outputs": [
    {
     "name": "stdout",
     "output_type": "stream",
     "text": [
      "Compiling model...\n",
      "Building feed-forward neural network...\n",
      "'build' took 0.070400 s\n",
      "\n"
     ]
    },
    {
     "name": "stderr",
     "output_type": "stream",
     "text": [
      "G:\\Anaconda3\\envs\\py3.8\\lib\\site-packages\\keras\\legacy_tf_layers\\core.py:236: UserWarning: `tf.layers.dense` is deprecated and will be removed in a future version. Please use `tf.keras.layers.Dense` instead.\n",
      "  warnings.warn('`tf.layers.dense` is deprecated and '\n",
      "G:\\Anaconda3\\envs\\py3.8\\lib\\site-packages\\keras\\engine\\base_layer_v1.py:1676: UserWarning: `layer.apply` is deprecated and will be removed in a future version. Please use `layer.__call__` method instead.\n",
      "  warnings.warn('`layer.apply` is deprecated and '\n"
     ]
    },
    {
     "name": "stdout",
     "output_type": "stream",
     "text": [
      "'compile' took 3.733325 s\n",
      "\n"
     ]
    }
   ],
   "source": [
    "model = dde.Model(data, net)\n",
    "model.compile(\"adam\", lr=2e-5, metrics=[\"l2 relative error\"])"
   ]
  },
  {
   "cell_type": "markdown",
   "metadata": {},
   "source": [
    "model.train"
   ]
  },
  {
   "cell_type": "code",
   "execution_count": 7,
   "metadata": {
    "scrolled": true
   },
   "outputs": [
    {
     "name": "stdout",
     "output_type": "stream",
     "text": [
      "Initializing variables...\n",
      "Training model...\n",
      "\n",
      "Step      Train loss                        Test loss                         Test metric   \n",
      "0         [4.70e+01, 3.07e-02, 1.23e-01]    [4.95e+01, 3.07e-02, 1.23e-01]    [1.12e+00]    \n",
      "1000      [2.38e+01, 7.10e-04, 4.92e-01]    [2.53e+01, 7.10e-04, 4.92e-01]    [7.44e-01]    \n",
      "2000      [5.55e+00, 1.68e-03, 2.44e-01]    [5.62e+00, 1.68e-03, 2.44e-01]    [3.69e-01]    \n",
      "3000      [1.37e+00, 2.62e-04, 1.05e-02]    [1.06e+00, 2.62e-04, 1.05e-02]    [7.13e-02]    \n",
      "4000      [6.18e-01, 1.36e-05, 3.19e-03]    [3.47e-01, 1.36e-05, 3.19e-03]    [7.91e-02]    \n",
      "5000      [3.45e-01, 2.77e-05, 7.27e-04]    [1.80e-01, 2.77e-05, 7.27e-04]    [3.95e-02]    \n",
      "6000      [1.38e-01, 5.79e-06, 2.14e-04]    [6.17e-02, 5.79e-06, 2.14e-04]    [1.23e-02]    \n",
      "7000      [6.79e-02, 2.61e-07, 4.54e-05]    [4.75e-02, 2.61e-07, 4.54e-05]    [1.55e-02]    \n",
      "8000      [3.04e-02, 6.21e-07, 2.05e-05]    [2.23e-02, 6.21e-07, 2.05e-05]    [1.03e-02]    \n",
      "9000      [9.52e-03, 5.17e-07, 6.46e-06]    [6.56e-03, 5.17e-07, 6.46e-06]    [2.36e-03]    \n",
      "10000     [3.71e-03, 7.16e-09, 1.08e-06]    [3.35e-03, 7.16e-09, 1.08e-06]    [1.75e-03]    \n",
      "11000     [1.44e-03, 2.77e-09, 3.33e-07]    [1.55e-03, 2.77e-09, 3.33e-07]    [1.14e-03]    \n",
      "12000     [7.23e-04, 1.04e-09, 7.26e-08]    [1.07e-03, 1.04e-09, 7.26e-08]    [2.62e-03]    \n",
      "13000     [4.49e-04, 4.40e-10, 2.15e-08]    [7.87e-04, 4.40e-10, 2.15e-08]    [2.54e-03]    \n",
      "14000     [2.35e-04, 1.03e-10, 2.15e-08]    [4.76e-04, 1.03e-10, 2.15e-08]    [1.71e-03]    \n",
      "15000     [1.04e-04, 2.63e-09, 6.02e-10]    [2.60e-04, 2.63e-09, 6.02e-10]    [7.19e-04]    \n",
      "16000     [4.85e-05, 1.37e-13, 1.07e-09]    [1.65e-04, 1.37e-13, 1.07e-09]    [2.65e-04]    \n",
      "17000     [3.07e-05, 2.59e-08, 1.12e-07]    [1.38e-04, 2.59e-08, 1.12e-07]    [7.88e-04]    \n",
      "18000     [2.22e-05, 3.06e-11, 2.10e-10]    [1.16e-04, 3.06e-11, 2.10e-10]    [8.60e-04]    \n",
      "19000     [1.60e-05, 8.35e-10, 4.18e-09]    [9.99e-05, 8.35e-10, 4.18e-09]    [8.09e-04]    \n",
      "20000     [1.17e-05, 1.30e-11, 2.17e-10]    [8.55e-05, 1.30e-11, 2.17e-10]    [7.26e-04]    \n",
      "21000     [8.75e-06, 2.38e-08, 9.08e-08]    [7.63e-05, 2.38e-08, 9.08e-08]    [6.98e-04]    \n",
      "22000     [6.51e-06, 4.32e-09, 2.17e-08]    [6.36e-05, 4.32e-09, 2.17e-08]    [5.71e-04]    \n",
      "23000     [4.81e-06, 1.12e-12, 4.09e-11]    [5.78e-05, 1.12e-12, 4.09e-11]    [4.93e-04]    \n",
      "24000     [3.86e-06, 2.52e-08, 1.09e-07]    [5.47e-05, 2.52e-08, 1.09e-07]    [4.76e-04]    \n",
      "25000     [2.91e-06, 4.52e-09, 1.65e-08]    [4.67e-05, 4.52e-09, 1.65e-08]    [3.60e-04]    \n",
      "26000     [2.36e-06, 6.54e-09, 2.75e-08]    [4.27e-05, 6.54e-09, 2.75e-08]    [3.13e-04]    \n",
      "27000     [2.51e-06, 8.58e-08, 3.75e-07]    [4.57e-05, 8.58e-08, 3.75e-07]    [4.32e-04]    \n",
      "28000     [2.00e-06, 6.40e-08, 2.69e-07]    [4.23e-05, 6.40e-08, 2.69e-07]    [3.85e-04]    \n",
      "29000     [1.41e-06, 1.60e-10, 4.30e-10]    [3.66e-05, 1.60e-10, 4.30e-10]    [2.14e-04]    \n",
      "30000     [1.26e-06, 5.02e-12, 3.10e-11]    [3.51e-05, 5.02e-12, 3.10e-11]    [1.81e-04]    \n",
      "31000     [1.78e-06, 8.42e-08, 3.66e-07]    [3.86e-05, 8.42e-08, 3.66e-07]    [3.62e-04]    \n",
      "32000     [1.08e-06, 2.14e-11, 6.26e-11]    [3.30e-05, 2.14e-11, 6.26e-11]    [1.44e-04]    \n",
      "33000     [1.44e-06, 3.39e-08, 1.67e-07]    [2.94e-05, 3.39e-08, 1.67e-07]    [1.85e-04]    \n",
      "34000     [9.80e-07, 8.26e-12, 2.72e-11]    [3.14e-05, 8.26e-12, 2.72e-11]    [1.16e-04]    \n",
      "35000     [1.01e-06, 9.65e-09, 4.02e-08]    [3.21e-05, 9.65e-09, 4.02e-08]    [1.73e-04]    \n",
      "36000     [9.32e-07, 8.10e-10, 3.50e-09]    [2.99e-05, 8.10e-10, 3.50e-09]    [8.60e-05]    \n",
      "37000     [9.09e-07, 6.07e-12, 3.20e-12]    [2.99e-05, 6.07e-12, 3.20e-12]    [8.97e-05]    \n",
      "38000     [8.94e-07, 1.01e-10, 3.38e-10]    [2.97e-05, 1.01e-10, 3.38e-10]    [8.80e-05]    \n",
      "39000     [8.81e-07, 1.49e-10, 7.42e-10]    [2.91e-05, 1.49e-10, 7.42e-10]    [6.99e-05]    \n",
      "40000     [1.04e-06, 5.59e-09, 2.85e-08]    [2.75e-05, 5.59e-09, 2.85e-08]    [6.98e-05]    \n",
      "41000     [9.43e-07, 8.06e-09, 3.59e-08]    [3.02e-05, 8.06e-09, 3.59e-08]    [1.36e-04]    \n",
      "42000     [1.07e-06, 2.73e-08, 1.23e-07]    [3.10e-05, 2.73e-08, 1.23e-07]    [2.10e-04]    \n",
      "43000     [1.03e-06, 2.85e-08, 1.20e-07]    [3.07e-05, 2.85e-08, 1.20e-07]    [2.14e-04]    \n",
      "44000     [8.65e-07, 5.70e-10, 3.07e-09]    [2.89e-05, 5.70e-10, 3.07e-09]    [6.97e-05]    \n",
      "45000     [1.05e-06, 3.43e-08, 1.47e-07]    [2.59e-05, 3.43e-08, 1.47e-07]    [1.42e-04]    \n",
      "46000     [1.06e-06, 3.52e-08, 1.49e-07]    [3.06e-05, 3.52e-08, 1.49e-07]    [2.28e-04]    \n",
      "47000     [1.84e-06, 1.49e-07, 6.40e-07]    [2.37e-05, 1.49e-07, 6.40e-07]    [3.31e-04]    \n",
      "48000     [1.15e-06, 5.39e-08, 2.24e-07]    [3.09e-05, 5.39e-08, 2.24e-07]    [2.71e-04]    \n",
      "49000     [8.51e-07, 5.76e-09, 2.61e-08]    [2.87e-05, 5.76e-09, 2.61e-08]    [1.19e-04]    \n",
      "50000     [7.92e-07, 1.11e-10, 3.37e-10]    [2.76e-05, 1.11e-10, 3.37e-10]    [5.89e-05]    \n",
      "51000     [7.97e-07, 1.53e-09, 6.24e-09]    [2.80e-05, 1.53e-09, 6.24e-09]    [8.22e-05]    \n",
      "52000     [8.05e-07, 4.29e-09, 1.87e-08]    [2.66e-05, 4.29e-09, 1.87e-08]    [3.05e-05]    \n",
      "53000     [7.71e-07, 1.20e-12, 2.03e-11]    [2.72e-05, 1.20e-12, 2.03e-11]    [4.77e-05]    \n",
      "54000     [7.68e-07, 7.84e-11, 1.76e-10]    [2.71e-05, 7.84e-11, 1.76e-10]    [6.06e-05]    \n",
      "55000     [7.58e-07, 1.32e-12, 1.43e-11]    [2.71e-05, 1.32e-12, 1.43e-11]    [4.91e-05]    \n",
      "56000     [7.52e-07, 1.18e-11, 9.53e-11]    [2.70e-05, 1.18e-11, 9.53e-11]    [4.76e-05]    \n",
      "57000     [7.47e-07, 1.03e-10, 4.85e-10]    [2.68e-05, 1.03e-10, 4.85e-10]    [4.40e-05]    \n",
      "58000     [1.79e-06, 1.63e-07, 6.89e-07]    [2.28e-05, 1.63e-07, 6.89e-07]    [3.55e-04]    \n",
      "59000     [7.34e-07, 1.91e-12, 6.47e-13]    [2.68e-05, 1.91e-12, 6.47e-13]    [5.49e-05]    \n",
      "60000     [7.33e-07, 5.22e-10, 1.87e-09]    [2.69e-05, 5.22e-10, 1.87e-09]    [7.68e-05]    \n",
      "61000     [7.40e-07, 9.31e-11, 9.82e-10]    [2.63e-05, 9.31e-11, 9.82e-10]    [5.30e-05]    \n",
      "62000     [7.17e-07, 3.10e-12, 1.92e-12]    [2.66e-05, 3.10e-12, 1.92e-12]    [6.03e-05]    \n",
      "63000     [7.12e-07, 3.06e-11, 6.47e-11]    [2.66e-05, 3.06e-11, 6.47e-11]    [6.38e-05]    \n",
      "64000     [7.08e-07, 3.73e-10, 1.41e-09]    [2.66e-05, 3.73e-10, 1.41e-09]    [7.88e-05]    \n",
      "65000     [7.00e-07, 7.76e-13, 6.27e-12]    [2.64e-05, 7.76e-13, 6.27e-12]    [6.43e-05]    \n",
      "66000     [6.95e-07, 1.75e-11, 3.45e-11]    [2.64e-05, 1.75e-11, 3.45e-11]    [6.85e-05]    \n",
      "67000     [6.90e-07, 1.68e-11, 9.09e-11]    [2.63e-05, 1.68e-11, 9.09e-11]    [6.61e-05]    \n",
      "68000     [6.91e-07, 9.46e-10, 3.86e-09]    [2.67e-05, 9.46e-10, 3.86e-09]    [9.02e-05]    \n",
      "69000     [6.79e-07, 3.37e-11, 1.16e-10]    [2.63e-05, 3.37e-11, 1.16e-10]    [7.57e-05]    \n",
      "70000     [6.77e-07, 3.55e-12, 3.90e-12]    [2.60e-05, 3.55e-12, 3.90e-12]    [7.61e-05]    \n",
      "71000     [6.68e-07, 5.69e-11, 1.90e-10]    [2.62e-05, 5.69e-11, 1.90e-10]    [8.10e-05]    \n",
      "72000     [6.63e-07, 6.11e-12, 1.98e-11]    [2.61e-05, 6.11e-12, 1.98e-11]    [7.99e-05]    \n",
      "73000     [1.31e-06, 2.77e-08, 1.43e-07]    [2.98e-05, 2.77e-08, 1.43e-07]    [2.06e-04]    \n",
      "74000     [6.70e-07, 2.53e-09, 1.11e-08]    [2.53e-05, 2.53e-09, 1.11e-08]    [7.23e-05]    \n",
      "75000     [6.51e-07, 3.38e-10, 1.65e-09]    [2.56e-05, 3.38e-10, 1.65e-09]    [7.70e-05]    \n",
      "76000     [7.14e-07, 1.01e-08, 4.10e-08]    [2.51e-05, 1.01e-08, 4.10e-08]    [1.05e-04]    \n",
      "77000     [6.62e-07, 3.10e-09, 1.34e-08]    [2.51e-05, 3.10e-09, 1.34e-08]    [8.10e-05]    \n",
      "78000     [6.34e-07, 2.41e-11, 1.31e-10]    [2.58e-05, 2.41e-11, 1.31e-10]    [9.49e-05]    \n",
      "79000     [6.31e-07, 3.75e-10, 1.60e-09]    [2.55e-05, 3.75e-10, 1.60e-09]    [8.69e-05]    \n",
      "80000     [6.33e-07, 1.41e-09, 5.78e-09]    [2.61e-05, 1.41e-09, 5.78e-09]    [1.17e-04]    \n",
      "\n",
      "Best model at step 79000:\n",
      "  train loss: 6.33e-07\n",
      "  test loss: 2.55e-05\n",
      "  test metric: [8.69e-05]\n",
      "\n",
      "'train' took 283.759004 s\n",
      "\n"
     ]
    }
   ],
   "source": [
    "losshistory, train_state = model.train(epochs=80000)"
   ]
  },
  {
   "cell_type": "markdown",
   "metadata": {},
   "source": [
    "plot"
   ]
  },
  {
   "cell_type": "code",
   "execution_count": 8,
   "metadata": {},
   "outputs": [],
   "source": [
    "%matplotlib inline\n",
    "import matplotlib.pyplot as plt\n",
    "import numpy as np\n",
    "\n",
    "def plot_loss_history(loss_history):\n",
    "    \"\"\"Plot the training and testing loss history.\n",
    "\n",
    "    Note:\n",
    "        You need to call ``plt.show()`` to show the figure.\n",
    "\n",
    "    Args:\n",
    "        loss_history: ``LossHistory`` instance. The first variable returned from\n",
    "            ``Model.train()``.\n",
    "    \"\"\"\n",
    "    loss_train = np.sum(loss_history.loss_train, axis=1)\n",
    "    loss_test = np.sum(loss_history.loss_test, axis=1)\n",
    "\n",
    "    plt.figure(figsize=(10, 8))\n",
    "    plt.semilogy(loss_history.steps, loss_train, label=\"Train loss\")\n",
    "    plt.semilogy(loss_history.steps, loss_test, label=\"Test loss\")\n",
    "    for i in range(len(loss_history.metrics_test[0])):\n",
    "        plt.semilogy(\n",
    "            loss_history.steps,\n",
    "            np.array(loss_history.metrics_test)[:, i],\n",
    "            label=\"Test metric\",\n",
    "        )\n",
    "    plt.xlabel(\"Steps\")\n",
    "    plt.ylabel(\"loss\")\n",
    "    plt.legend()\n",
    "    plt.show()"
   ]
  },
  {
   "cell_type": "code",
   "execution_count": 9,
   "metadata": {},
   "outputs": [
    {
     "data": {
      "image/png": "[encoded data removed]",
      "text/plain": [
       "<Figure size 720x576 with 1 Axes>"
      ]
     },
     "metadata": {
      "needs_background": "light"
     },
     "output_type": "display_data"
    }
   ],
   "source": [
    "plot_loss_history(losshistory)"
   ]
  },
  {
   "cell_type": "code",
   "execution_count": 14,
   "metadata": {},
   "outputs": [],
   "source": [
    "%matplotlib inline\n",
    "import matplotlib.pyplot as plt\n",
    "import numpy as np\n",
    "from mpl_toolkits.mplot3d import Axes3D\n",
    "\n",
    "def _pack_data(train_state):\n",
    "    def merge_values(values):\n",
    "        if values is None:\n",
    "            return None\n",
    "        return np.hstack(values) if isinstance(values, (list, tuple)) else values\n",
    "\n",
    "    y_train = merge_values(train_state.y_train)\n",
    "    y_test = merge_values(train_state.y_test)\n",
    "    best_y = merge_values(train_state.best_y)\n",
    "    best_ystd = merge_values(train_state.best_ystd)\n",
    "    return y_train, y_test, best_y, best_ystd\n",
    "\n",
    "def plot_best_state(train_state):\n",
    "    \"\"\"Plot the best result of the smallest training loss.\n",
    "\n",
    "    This function only works for 1D and 2D problems. For other problems and to better\n",
    "    customize the figure, use ``save_best_state()``.\n",
    "\n",
    "    Note:\n",
    "        You need to call ``plt.show()`` to show the figure.\n",
    "\n",
    "    Args:\n",
    "        train_state: ``TrainState`` instance. The second variable returned from\n",
    "            ``Model.train()``.\n",
    "    \"\"\"\n",
    "    if isinstance(train_state.X_train, (list, tuple)):\n",
    "        print(\n",
    "            \"Error: The network has multiple inputs, and plotting such result han't been implemented.\"\n",
    "        )\n",
    "        return\n",
    "\n",
    "    y_train, y_test, best_y, best_ystd = _pack_data(train_state)\n",
    "    y_dim = best_y.shape[1]\n",
    "\n",
    "    # Regression plot\n",
    "    # 1D\n",
    "    if train_state.X_test.shape[1] == 1:\n",
    "        idx = np.argsort(train_state.X_test[:, 0])\n",
    "        X = train_state.X_test[idx, 0]\n",
    "        plt.figure(figsize=(10, 6))\n",
    "        for i in range(y_dim):\n",
    "            if y_train is not None:\n",
    "                plt.plot(train_state.X_train[:, 0], y_train[:, i], \"ok\", label=\"Train\")\n",
    "            if y_test is not None:\n",
    "                plt.plot(X, y_test[idx, i], \"-k\", label=\"True\")\n",
    "            plt.plot(X, best_y[idx, i], \"--r\", label=\"Prediction\")\n",
    "            if best_ystd is not None:\n",
    "                plt.plot(\n",
    "                    X, best_y[idx, i] + 2 * best_ystd[idx, i], \"-b\", label=\"95% CI\"\n",
    "                )\n",
    "                plt.plot(X, best_y[idx, i] - 2 * best_ystd[idx, i], \"-b\")\n",
    "        plt.xlabel(\"x\")\n",
    "        plt.ylabel(\"y\")\n",
    "        plt.legend()\n",
    "    # 2D\n",
    "    elif train_state.X_test.shape[1] == 2:\n",
    "        for i in range(y_dim):\n",
    "            plt.figure(figsize=(20, 12))\n",
    "            ax = plt.axes(projection=Axes3D.name)\n",
    "            ax.plot3D(\n",
    "                train_state.X_test[:, 0],\n",
    "                train_state.X_test[:, 1],\n",
    "                best_y[:, i],\n",
    "                \".\",\n",
    "            )\n",
    "            ax.set_xlabel(\"$x_1$\")\n",
    "            ax.set_ylabel(\"$x_2$\")\n",
    "            ax.set_zlabel(\"$y_{}$\".format(i + 1))\n",
    "\n",
    "    plt.show()\n"
   ]
  },
  {
   "cell_type": "code",
   "execution_count": 15,
   "metadata": {},
   "outputs": [
    {
     "data": {
      "image/png": "[encoded data removed]",
      "text/plain": [
       "<Figure size 720x432 with 1 Axes>"
      ]
     },
     "metadata": {
      "needs_background": "light"
     },
     "output_type": "display_data"
    }
   ],
   "source": [
    "plot_best_state(train_state)"
   ]
  },
  {
   "cell_type": "code",
   "execution_count": null,
   "metadata": {},
   "outputs": [],
   "source": []
  },
  {
   "cell_type": "code",
   "execution_count": 13,
   "metadata": {},
   "outputs": [],
   "source": [
    "# dde.saveplot(losshistory, train_state, issave=True, isplot=True)"
   ]
  },
  {
   "cell_type": "code",
   "execution_count": null,
   "metadata": {},
   "outputs": [],
   "source": []
  }
 ],
 "metadata": {
  "kernelspec": {
   "display_name": "py3.8",
   "language": "python",
   "name": "py3.8"
  },
  "language_info": {
   "codemirror_mode": {
    "name": "ipython",
    "version": 3
   },
   "file_extension": ".py",
   "mimetype": "text/x-python",
   "name": "python",
   "nbconvert_exporter": "python",
   "pygments_lexer": "ipython3",
   "version": "3.8.13"
  }
 },
 "nbformat": 4,
 "nbformat_minor": 2
}
