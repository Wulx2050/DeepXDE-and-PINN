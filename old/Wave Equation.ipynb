{
 "cells": [
  {
   "cell_type": "markdown",
   "metadata": {},
   "source": [
    "## 运行版本"
   ]
  },
  {
   "cell_type": "code",
   "execution_count": 1,
   "metadata": {},
   "outputs": [
    {
     "data": {
      "text/plain": [
       "'3.8.13 (default, Mar 28 2022, 06:59:08) [MSC v.1916 64 bit (AMD64)]'"
      ]
     },
     "execution_count": 1,
     "metadata": {},
     "output_type": "execute_result"
    }
   ],
   "source": [
    "import sys\n",
    "\n",
    "sys.version"
   ]
  },
  {
   "cell_type": "code",
   "execution_count": 2,
   "metadata": {},
   "outputs": [
    {
     "data": {
      "text/plain": [
       "'2.6.0'"
      ]
     },
     "execution_count": 2,
     "metadata": {},
     "output_type": "execute_result"
    }
   ],
   "source": [
    "import tensorflow\n",
    "\n",
    "tensorflow.__version__"
   ]
  },
  {
   "cell_type": "code",
   "execution_count": 3,
   "metadata": {
    "scrolled": true
   },
   "outputs": [],
   "source": [
    "# !python -m deepxde.backend.set_default_backend tensorflow.compat.v1\n"
   ]
  },
  {
   "cell_type": "code",
   "execution_count": 4,
   "metadata": {
    "scrolled": true
   },
   "outputs": [
    {
     "name": "stderr",
     "output_type": "stream",
     "text": [
      "Using backend: tensorflow.compat.v1\n",
      "\n"
     ]
    },
    {
     "name": "stdout",
     "output_type": "stream",
     "text": [
      "WARNING:tensorflow:From G:\\Anaconda3\\envs\\py3.8\\lib\\site-packages\\tensorflow\\python\\compat\\v2_compat.py:101: disable_resource_variables (from tensorflow.python.ops.variable_scope) is deprecated and will be removed in a future version.\n",
      "Instructions for updating:\n",
      "non-resource variables are not supported in the long term\n",
      "WARNING:tensorflow:From G:\\Anaconda3\\envs\\py3.8\\lib\\site-packages\\deepxde\\nn\\initializers.py:118: The name tf.keras.initializers.he_normal is deprecated. Please use tf.compat.v1.keras.initializers.he_normal instead.\n",
      "\n"
     ]
    },
    {
     "data": {
      "text/plain": [
       "'1.1.3'"
      ]
     },
     "execution_count": 4,
     "metadata": {},
     "output_type": "execute_result"
    }
   ],
   "source": [
    "import deepxde\n",
    "\n",
    "deepxde.__version__"
   ]
  },
  {
   "cell_type": "markdown",
   "metadata": {},
   "source": [
    "## 4 Wave Equation\n",
    "\n",
    "下面我们讨论波动方程 $$\\large u_{tt}-\\Delta u = 0, \\tag{4.1}$$ \n",
    "\n",
    "和非齐次形式 $$\\large u_{tt}-\\Delta u = f,\\tag{4.2}$$ \n",
    "\n",
    "的解, 其中给定一定的初始和边界条件. 这里 $t>0,x\\in U,U\\subset \\mathbb{R}^n$。要解的东西是 $\\large u:\\bar{U} \\times[0,\\infty) \\to \\mathbb{R}, u = u(x,t)$。这里拉普拉斯算子是关于空间变量 $x = (x_1,\\cdots,x_n)$ 的。另外 $f:U \\times[0,\\infty) \\to \\mathbb{R}$ 给定. 通常我们也记 $\\Box u := u_{tt} - \\Delta u$。\n",
    "\n",
    "\n",
    "\n",
    "### 4.1 1维情形: d'Alembert公式\n",
    "\n",
    "**定理1.1 [d'Alembert公式] [一维波动方程的解]** 设 $\\large g \\in C^2(\\mathbb{R}), h \\in C^1(\\mathbb{R})$，定义\n",
    "\n",
    "$\\large u(x,t) = \\frac{1}{2} [g(x+t)+g(x-t)] + \\frac{1}{2} \\int^{x+t}_{x-t}h(y)dy, \\tag{4.3}$ \n",
    "\n",
    "则：\n",
    "\n",
    "（1） $\\large u\\in C^2(\\mathbb{R} \\times [0,\\infty))$，\n",
    "\n",
    "（2）$\\large u_{tt} - u_{xx} = 0, (x,t) \\in \\mathbb{R}\\times (0,\\infty)$，\n",
    "\n",
    "（3）$\\large \\lim_{(x,t)\\to (x^0,0^+)} u(x,t) = g(x^0), \\lim_{(x,t)\\to (x^0,0)} u_t(x,t) = h(x^0), \\forall x^0 \\in \\mathbb{R}$。\n",
    "\n",
    "\n",
    "\n",
    "### 4.2 3维情形: Kirchhoff公式\n",
    "\n",
    "对 $x\\in \\mathbb{R}^3, t>0,$ \n",
    "$$\n",
    "\\large\n",
    "\\begin{align*}\n",
    "u(x,t) &= \\frac{1}{n\\alpha(n)t^{n-1}} \\int_{\\partial B(x,t)} th(y)+g(y)+Dg(y)\\cdot (y-x)dS(y)。\\\\\n",
    "\\tag{4.4}\n",
    "\\end{align*}\n",
    "$$\n",
    "这就是三维情形的**Kirchhoff公式**。\n",
    "\n",
    "### 4.3 2维情形: Poisson公式\n",
    "\n",
    "对 $x\\in \\mathbb{R}^2, t>0,$ \n",
    "$$\n",
    "\\large\n",
    "\\begin{align*}\n",
    "u(x,t) &= \\frac{1}{2\\pi t} \\int_{B(x,t)} \\frac{g(y)+th(y)+Dg(y)\\cdot (y-x)}{(t^2-|y-x|^2)^{1/2}} dy,\\\\\n",
    "\\tag{4.5}\n",
    "\\end{align*}\n",
    "$$\n",
    "这就是二维情形下的Poisson公式。\n",
    "\n"
   ]
  },
  {
   "cell_type": "markdown",
   "metadata": {},
   "source": [
    "### 问题设置\n",
    "我们考虑一维波动方程的形式:\n",
    "$$\n",
    "\\large\n",
    "\\begin{aligned}\n",
    "&u_{tt}(x,t)-100u_{xx}(x,t)=0,(x,t)∈(0,1)\\times(0,1), \\\\ \n",
    "&u(0,t)=u(1,t)=0, t∈[0,1],\\\\\n",
    "&u(x,0)=\\sin(\\pi x)+\\sin(2\\pi x), x∈[0,1],\\\\\n",
    "&u_t(x,0)=0, x∈[0,1],\\\\\n",
    "\\end{aligned}\n",
    "\\tag{4.6}\n",
    "$$\n",
    "使用d'Alembert公式求得方程的解是 $$\\large u(x,t)=\\sin(πx)\\cos(10πt)+\\sin(2πx)\\cos(20πt).$$  \n",
    "\n",
    "mathematica求解代码\n",
    "\n",
    "```mathematica\n",
    "WaveEquation = D[u[x, t], {t, 2}] - 100*D[u[x, t], {x, 2}] == 0;\n",
    "bc = {u[0, t] == 0, u[1, t] == 0};\n",
    "ic = {u[x, 0] == Sin[Pi * x] + Sin[2*Pi*x], \n",
    "   Derivative[0, 1][u][x, 0] == 0};\n",
    "\n",
    "sol = DSolve[{WaveEquation, bc, ic}, u[x, t], {x, t}]\n",
    "(*{{u[x, t] -> (Cos[10 \\[Pi] t] + 2 Cos[20 \\[Pi] t] Cos[\\[Pi] x]) Sin[\\[Pi] x]}}*)\n",
    "```\n",
    "\n",
    "\n",
    "\n"
   ]
  },
  {
   "cell_type": "markdown",
   "metadata": {},
   "source": [
    "## 代码来源\n",
    "https://github.com/lululxvi/deepxde/blob/master/examples/pinn_forward/wave_1d.py\n",
    "\n",
    "https://github.com/PredictiveIntelligenceLab/MultiscalePINNs/blob/main/wave1D/wave1D.py"
   ]
  },
  {
   "cell_type": "code",
   "execution_count": 1,
   "metadata": {
    "scrolled": true
   },
   "outputs": [
    {
     "name": "stderr",
     "output_type": "stream",
     "text": [
      "Using backend: tensorflow.compat.v1\n",
      "\n"
     ]
    },
    {
     "name": "stdout",
     "output_type": "stream",
     "text": [
      "WARNING:tensorflow:From G:\\Anaconda3\\envs\\py3.8\\lib\\site-packages\\tensorflow\\python\\compat\\v2_compat.py:101: disable_resource_variables (from tensorflow.python.ops.variable_scope) is deprecated and will be removed in a future version.\n",
      "Instructions for updating:\n",
      "non-resource variables are not supported in the long term\n",
      "WARNING:tensorflow:From G:\\Anaconda3\\envs\\py3.8\\lib\\site-packages\\deepxde\\nn\\initializers.py:118: The name tf.keras.initializers.he_normal is deprecated. Please use tf.compat.v1.keras.initializers.he_normal instead.\n",
      "\n"
     ]
    }
   ],
   "source": [
    "\"\"\"Backend supported: tensorflow.compat.v1\n",
    "Implementation of the wave propagation example in paper https://arxiv.org/abs/2012.10047.\n",
    "References:\n",
    "    https://github.com/PredictiveIntelligenceLab/MultiscalePINNs.\n",
    "\"\"\"\n",
    "import deepxde as dde\n",
    "import numpy as np"
   ]
  },
  {
   "cell_type": "markdown",
   "metadata": {},
   "source": [
    "波动方程\n",
    "\n",
    "$\\large u_{tt}(x,t)-100u_{xx}(x,t)=0,(x,t)∈(0,1)\\times(0,1)$"
   ]
  },
  {
   "cell_type": "code",
   "execution_count": 2,
   "metadata": {},
   "outputs": [],
   "source": [
    "C = 10\n",
    "\n",
    "def pde(x, y):\n",
    "    dy_tt = dde.grad.hessian(y, x, i=1, j=1)\n",
    "    dy_xx = dde.grad.hessian(y, x, i=0, j=0)\n",
    "    return dy_tt - C ** 2 * dy_xx\n",
    "\n",
    "geom = dde.geometry.Interval(0, 1)\n",
    "timedomain = dde.geometry.TimeDomain(0, 1)\n",
    "geomtime = dde.geometry.GeometryXTime(geom, timedomain)"
   ]
  },
  {
   "cell_type": "markdown",
   "metadata": {},
   "source": [
    "边界、初始条件：\n",
    "\n",
    "bc: $\\large u(0,t)=u(1,t)=0, t∈[0,1],$\n",
    "\n",
    "ic_1: $\\large u(x,0)=\\sin(\\pi x)+\\sin(2\\pi x), x∈[0,1],$\n",
    "\n",
    "ic_2: $\\large u_t(x,0)=0, x∈[0,1],$\n",
    "\n",
    "方程的解：\n",
    "\n",
    "func: $\\large u(x,t)=\\sin(πx)\\cos(10πt)+\\sin(2πx)\\cos(20πt).$"
   ]
  },
  {
   "cell_type": "code",
   "execution_count": 3,
   "metadata": {},
   "outputs": [
    {
     "name": "stderr",
     "output_type": "stream",
     "text": [
      "G:\\Anaconda3\\envs\\py3.8\\lib\\site-packages\\skopt\\sampler\\sobol.py:246: UserWarning: The balance properties of Sobol' points require n to be a power of 2. 0 points have been previously generated, then: n=0+362=362. \n",
      "  warnings.warn(\"The balance properties of Sobol' points require \"\n"
     ]
    }
   ],
   "source": [
    "A = 2\n",
    "\n",
    "def func(x):\n",
    "    x, t = np.split(x, 2, axis=1)\n",
    "    return np.sin(np.pi * x) * np.cos(C * np.pi * t) +\\\n",
    "            np.sin(A * np.pi * x) * np.cos(A * C * np.pi * t)\n",
    "\n",
    "bc = dde.icbc.DirichletBC(geomtime, func, lambda _, on_boundary: on_boundary)\n",
    "ic_1 = dde.icbc.IC(geomtime, func, lambda _, on_initial: on_initial)\n",
    "# do not use dde.NeumannBC here, since `normal_derivative` does not work with temporal coordinate.\n",
    "ic_2 = dde.icbc.OperatorBC(\n",
    "    geomtime,\n",
    "    lambda x, y, _: dde.grad.jacobian(y, x, i=0, j=1),\n",
    "    lambda x, _: np.isclose(x[1], 0),\n",
    ")\n",
    "data = dde.data.TimePDE(\n",
    "    geomtime,\n",
    "    pde,\n",
    "    [bc, ic_1, ic_2],\n",
    "    num_domain=360,\n",
    "    num_boundary=360,\n",
    "    num_initial=360,\n",
    "    solution=func,\n",
    "    num_test=10000,\n",
    ")"
   ]
  },
  {
   "cell_type": "markdown",
   "metadata": {},
   "source": [
    "model\n",
    "\n",
    "如果发生错误：\n",
    "AttributeError: module 'deepxde.nn.tensorflow' has no attribute 'STMsFFN'\n",
    "\n",
    "把deepxde后端换成tensorflow_compat_v1\n",
    "\n",
    "https://deepxde.readthedocs.io/en/latest/modules/deepxde.nn.tensorflow_compat_v1.html#deepxde.nn.tensorflow_compat_v1.msffn.STMsFFN"
   ]
  },
  {
   "cell_type": "code",
   "execution_count": 4,
   "metadata": {},
   "outputs": [],
   "source": [
    "layer_size = [2] + [100] * 3 + [1]\n",
    "activation = \"tanh\"\n",
    "initializer = \"Glorot uniform\"\n",
    "net = dde.nn.STMsFFN(\n",
    "    layer_size, activation, initializer, sigmas_x=[1], sigmas_t=[1, 10]\n",
    ")\n",
    "net.apply_feature_transform(lambda x: (x - 0.5) * 2 * np.sqrt(3))\n",
    "\n",
    "model = dde.Model(data, net)"
   ]
  },
  {
   "cell_type": "markdown",
   "metadata": {},
   "source": [
    "compile"
   ]
  },
  {
   "cell_type": "code",
   "execution_count": 5,
   "metadata": {},
   "outputs": [
    {
     "name": "stdout",
     "output_type": "stream",
     "text": [
      "Compiling model...\n",
      "Building Spatio-temporal Multi-scale Fourier Feature Network...\n"
     ]
    },
    {
     "name": "stderr",
     "output_type": "stream",
     "text": [
      "G:\\Anaconda3\\envs\\py3.8\\lib\\site-packages\\keras\\legacy_tf_layers\\core.py:236: UserWarning: `tf.layers.dense` is deprecated and will be removed in a future version. Please use `tf.keras.layers.Dense` instead.\n",
      "  warnings.warn('`tf.layers.dense` is deprecated and '\n",
      "G:\\Anaconda3\\envs\\py3.8\\lib\\site-packages\\keras\\engine\\base_layer_v1.py:1676: UserWarning: `layer.apply` is deprecated and will be removed in a future version. Please use `layer.__call__` method instead.\n",
      "  warnings.warn('`layer.apply` is deprecated and '\n"
     ]
    },
    {
     "name": "stdout",
     "output_type": "stream",
     "text": [
      "'compile' took 3.664090 s\n",
      "\n",
      "Initializing variables...\n",
      "Training model...\n",
      "\n",
      "Step      Train loss                                  Test loss                                   Test metric   \n",
      "0         [4.99e+05, 7.72e-02, 6.54e-01, 1.87e+01]    [6.58e+05, 7.72e-02, 6.54e-01, 1.87e+01]    [1.05e+00]    \n",
      "\n",
      "Best model at step 0:\n",
      "  train loss: 4.99e+05\n",
      "  test loss: 6.58e+05\n",
      "  test metric: [1.05e+00]\n",
      "\n",
      "'train' took 0.814490 s\n",
      "\n",
      "Compiling model...\n",
      "'compile' took 1.414812 s\n",
      "\n"
     ]
    }
   ],
   "source": [
    "def get_initial_loss(model):\n",
    "    model.compile(\"adam\", lr=0.001, metrics=[\"l2 relative error\"])\n",
    "    losshistory, train_state = model.train(0)\n",
    "    return losshistory.loss_train[0]\n",
    "\n",
    "initial_losses = get_initial_loss(model)\n",
    "loss_weights = 5 / initial_losses\n",
    "model.compile(\n",
    "    \"adam\",\n",
    "    lr=0.001,\n",
    "    metrics=[\"l2 relative error\"],\n",
    "    loss_weights=loss_weights,\n",
    "    decay=(\"inverse time\", 2000, 0.9),\n",
    ")\n"
   ]
  },
  {
   "cell_type": "markdown",
   "metadata": {},
   "source": [
    "model.train"
   ]
  },
  {
   "cell_type": "code",
   "execution_count": 6,
   "metadata": {
    "scrolled": true
   },
   "outputs": [
    {
     "name": "stdout",
     "output_type": "stream",
     "text": [
      "Initializing variables...\n",
      "Training model...\n",
      "\n",
      "Step      Train loss                                  Test loss                                   Test metric   \n",
      "0         [3.97e+00, 1.98e+00, 5.89e+00, 2.51e+00]    [4.18e+00, 1.98e+00, 5.89e+00, 2.51e+00]    [1.02e+00]    \n",
      "500       [6.48e-02, 5.62e-03, 1.49e-03, 4.54e-04]    [1.75e-01, 5.62e-03, 1.49e-03, 4.54e-04]    [7.95e-01]    \n",
      "1000      [2.86e-02, 3.05e-03, 3.48e-04, 3.56e-03]    [7.73e-02, 3.05e-03, 3.48e-04, 3.56e-03]    [7.13e-01]    \n",
      "1500      [1.56e-02, 2.22e-03, 1.82e-04, 1.07e-03]    [5.26e-02, 2.22e-03, 1.82e-04, 1.07e-03]    [6.47e-01]    \n",
      "2000      [1.41e-02, 1.67e-03, 5.99e-05, 5.11e-04]    [4.10e-02, 1.67e-03, 5.99e-05, 5.11e-04]    [5.84e-01]    \n",
      "2500      [1.02e-02, 1.33e-03, 5.52e-05, 8.89e-04]    [3.19e-02, 1.33e-03, 5.52e-05, 8.89e-04]    [5.25e-01]    \n",
      "3000      [9.11e-03, 9.81e-04, 3.69e-05, 1.02e-04]    [2.49e-02, 9.81e-04, 3.69e-05, 1.02e-04]    [4.64e-01]    \n",
      "3500      [6.27e-03, 7.61e-04, 1.41e-05, 6.97e-05]    [1.91e-02, 7.61e-04, 1.41e-05, 6.97e-05]    [4.07e-01]    \n",
      "4000      [4.36e-03, 5.68e-04, 2.58e-05, 1.38e-03]    [1.44e-02, 5.68e-04, 2.58e-05, 1.38e-03]    [3.51e-01]    \n",
      "4500      [3.58e-03, 4.83e-04, 1.53e-05, 1.60e-04]    [1.07e-02, 4.83e-04, 1.53e-05, 1.60e-04]    [3.00e-01]    \n",
      "5000      [2.62e-03, 2.53e-04, 4.55e-06, 6.51e-05]    [8.10e-03, 2.53e-04, 4.55e-06, 6.51e-05]    [2.52e-01]    \n",
      "5500      [1.88e-03, 2.09e-04, 1.64e-05, 5.64e-03]    [5.82e-03, 2.09e-04, 1.64e-05, 5.64e-03]    [2.12e-01]    \n",
      "6000      [1.45e-03, 1.48e-04, 1.48e-05, 4.79e-05]    [4.40e-03, 1.48e-04, 1.48e-05, 4.79e-05]    [1.77e-01]    \n",
      "6500      [1.11e-03, 1.20e-04, 4.43e-06, 1.32e-04]    [3.44e-03, 1.20e-04, 4.43e-06, 1.32e-04]    [1.47e-01]    \n",
      "7000      [9.04e-04, 7.46e-05, 5.30e-06, 8.44e-06]    [2.67e-03, 7.46e-05, 5.30e-06, 8.44e-06]    [1.23e-01]    \n",
      "7500      [6.82e-04, 7.01e-05, 2.20e-06, 1.91e-04]    [2.16e-03, 7.01e-05, 2.20e-06, 1.91e-04]    [1.03e-01]    \n",
      "8000      [6.69e-04, 5.62e-05, 1.32e-05, 1.05e-04]    [1.71e-03, 5.62e-05, 1.32e-05, 1.05e-04]    [8.58e-02]    \n",
      "8500      [5.18e-04, 4.62e-05, 3.13e-06, 1.19e-04]    [1.50e-03, 4.62e-05, 3.13e-06, 1.19e-04]    [7.22e-02]    \n",
      "9000      [3.96e-04, 2.99e-05, 6.05e-06, 8.17e-05]    [1.21e-03, 2.99e-05, 6.05e-06, 8.17e-05]    [6.07e-02]    \n",
      "9500      [4.08e-04, 3.31e-05, 2.13e-06, 7.44e-04]    [1.12e-03, 3.31e-05, 2.13e-06, 7.44e-04]    [5.13e-02]    \n",
      "10000     [3.91e-04, 2.96e-05, 4.70e-06, 8.99e-06]    [9.70e-04, 2.96e-05, 4.70e-06, 8.99e-06]    [4.37e-02]    \n",
      "\n",
      "Best model at step 10000:\n",
      "  train loss: 4.34e-04\n",
      "  test loss: 1.01e-03\n",
      "  test metric: [4.37e-02]\n",
      "\n",
      "'train' took 444.102006 s\n",
      "\n"
     ]
    }
   ],
   "source": [
    "pde_residual_resampler = dde.callbacks.PDEResidualResampler(period=1)\n",
    "losshistory, train_state = model.train(\n",
    "    epochs=10000, callbacks=[pde_residual_resampler], display_every=500\n",
    ")"
   ]
  },
  {
   "cell_type": "markdown",
   "metadata": {},
   "source": [
    "saveplot"
   ]
  },
  {
   "cell_type": "code",
   "execution_count": 7,
   "metadata": {},
   "outputs": [
    {
     "name": "stdout",
     "output_type": "stream",
     "text": [
      "Saving loss history to E:\\noetbook\\毕业论文\\loss.dat ...\n",
      "Saving training data to E:\\noetbook\\毕业论文\\train.dat ...\n",
      "Saving test data to E:\\noetbook\\毕业论文\\test.dat ...\n"
     ]
    },
    {
     "data": {
      "image/png": "[encoded data removed]",
      "text/plain": [
       "<Figure size 432x288 with 1 Axes>"
      ]
     },
     "metadata": {
      "needs_background": "light"
     },
     "output_type": "display_data"
    },
    {
     "data": {
      "image/png": "[encoded data removed]",
      "text/plain": [
       "<Figure size 432x288 with 1 Axes>"
      ]
     },
     "metadata": {
      "needs_background": "light"
     },
     "output_type": "display_data"
    }
   ],
   "source": [
    "dde.saveplot(losshistory, train_state, issave=True, isplot=True)"
   ]
  },
  {
   "cell_type": "code",
   "execution_count": null,
   "metadata": {},
   "outputs": [],
   "source": []
  }
 ],
 "metadata": {
  "kernelspec": {
   "display_name": "py3.8",
   "language": "python",
   "name": "py3.8"
  },
  "language_info": {
   "codemirror_mode": {
    "name": "ipython",
    "version": 3
   },
   "file_extension": ".py",
   "mimetype": "text/x-python",
   "name": "python",
   "nbconvert_exporter": "python",
   "pygments_lexer": "ipython3",
   "version": "3.8.13"
  }
 },
 "nbformat": 4,
 "nbformat_minor": 2
}
